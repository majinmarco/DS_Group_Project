{
  "cells": [
    {
      "cell_type": "markdown",
      "metadata": {
        "id": "ZX7cQyVvi0pD"
      },
      "source": [
        "# DS Group Project (Fall 2022): Energy Demand Forecasting\n",
        "--------------------------------\n",
        "**Dr. Dave Wanik - University of Connecticut - Department of Operations and Information Management**\n",
        "\n",
        "--------------------------\n",
        "\n",
        "**Your Group Members:** \n",
        "\n",
        "In this project, you will be fitting, evaluating and interpreting models related to energy demand forecasting models. The kicker? You and your group will be competing against everyone else in the class! Highest grade (best MAE and RMSE) gets a 100, lowest grade gets an 80, and every other grade falls evenly dispersed between 80 and 100. Additional points will be removed if quality of notebook is poor. See rubric.\n",
        "\n",
        "You are welcome to submit additional notebooks as an appendix - we only want your best work here, and your notebook should run from start to finish in 5 minutes or less (reach out to Dave early if this is an issue.)\n",
        "\n",
        "Keep your modeling strategy to YOURSELVES! You may not to talk to other groups or students but you may ask the professor questions. Good luck!"
      ]
    },
    {
      "cell_type": "markdown",
      "metadata": {
        "id": "jQcGvxzvkRtB"
      },
      "source": [
        "**Note:** You may only use packages and methods covered in class. No ARIMA models and no deep learning models! You are welcome to use third-party feature engineering libraries. You may use autoML - but remember that it takes a long time to fit and that you may do better by focusing on feature engineering instead of modeling!"
      ]
    },
    {
      "cell_type": "code",
      "execution_count": null,
      "metadata": {
        "colab": {
          "base_uri": "https://localhost:8080/"
        },
        "id": "bamtGmal-d-T",
        "outputId": "c531643d-caf1-4bbc-9344-c6580a580107"
      },
      "outputs": [
        {
          "name": "stdout",
          "output_type": "stream",
          "text": [
            "Downloading...\n",
            "From: https://drive.google.com/uc?id=1xYe3vCKTLeaJKpMDzv57ppCSWK_LCJ5V\n",
            "To: /content/BDL_cleanweather_energy (1).csv\n",
            "\r  0% 0.00/7.38M [00:00<?, ?B/s]\r100% 7.38M/7.38M [00:00<00:00, 245MB/s]\n"
          ]
        }
      ],
      "source": [
        "# https://drive.google.com/file/d/1xYe3vCKTLeaJKpMDzv57ppCSWK_LCJ5V/view?usp=sharing\n",
        "!gdown 1xYe3vCKTLeaJKpMDzv57ppCSWK_LCJ5V"
      ]
    },
    {
      "cell_type": "code",
      "execution_count": null,
      "metadata": {
        "id": "hWwCWrBb-eyV"
      },
      "outputs": [],
      "source": [
        "import pandas as pd\n",
        "df = pd.read_csv('BDL_cleanweather_energy (1).csv')"
      ]
    },
    {
      "cell_type": "code",
      "execution_count": null,
      "metadata": {
        "colab": {
          "base_uri": "https://localhost:8080/"
        },
        "id": "Pl2aA-ZtkpKR",
        "outputId": "d9a4d3c4-1b0f-4a47-d8d6-bb53901b53dd"
      },
      "outputs": [
        {
          "name": "stdout",
          "output_type": "stream",
          "text": [
            "<class 'pandas.core.frame.DataFrame'>\n",
            "RangeIndex: 96427 entries, 0 to 96426\n",
            "Data columns (total 11 columns):\n",
            " #   Column    Non-Null Count  Dtype  \n",
            "---  ------    --------------  -----  \n",
            " 0   Datetime  96427 non-null  object \n",
            " 1   Demand    96427 non-null  float64\n",
            " 2   BDL_tmpf  96160 non-null  float64\n",
            " 3   BDL_dwpf  96160 non-null  float64\n",
            " 4   BDL_relh  96160 non-null  float64\n",
            " 5   BDL_drct  96160 non-null  float64\n",
            " 6   BDL_sknt  96160 non-null  float64\n",
            " 7   BDL_p01i  96160 non-null  float64\n",
            " 8   BDL_alti  96160 non-null  float64\n",
            " 9   BDL_mslp  96160 non-null  float64\n",
            " 10  BDL_vsby  96160 non-null  float64\n",
            "dtypes: float64(10), object(1)\n",
            "memory usage: 8.1+ MB\n"
          ]
        }
      ],
      "source": [
        "df.info()"
      ]
    },
    {
      "cell_type": "markdown",
      "metadata": {
        "id": "a7GUDfyIlxqd"
      },
      "source": [
        "Note that your data is currently sorted from newest to oldest. Make sure you sort from oldest to newest before performing any analysis or feature engineering."
      ]
    },
    {
      "cell_type": "markdown",
      "metadata": {
        "id": "N2IDN7uxq-mY"
      },
      "source": [
        "## Data Dictionary\n",
        "Scroll down to see the data dictionary.\n",
        "* https://mesonet.agron.iastate.edu/request/download.phtml\n",
        "\n",
        "The Demand column is energy usage across all of New England. The weather data is for Bradley Airport in Connecticut (BDL)."
      ]
    },
    {
      "cell_type": "markdown",
      "metadata": {
        "id": "o1cbxgpSjmLV"
      },
      "source": [
        "# (15 points) Exploratory Data Analysis\n",
        "Create at least five interesting plots and tables that motivates your problem. Provide rich descriptions of each figure/table. Make a subheader for each plot and table so it's easy to grade."
      ]
    },
    {
      "cell_type": "code",
      "execution_count": null,
      "metadata": {
        "colab": {
          "base_uri": "https://localhost:8080/",
          "height": 206
        },
        "id": "LOYvVQ60j0wm",
        "outputId": "8599ba0e-f444-4a53-b7a2-63bbc02623da"
      },
      "outputs": [
        {
          "data": {
            "text/html": [
              "\n",
              "  <div id=\"df-c1a47398-e74a-4e69-b674-ff6186a2831e\">\n",
              "    <div class=\"colab-df-container\">\n",
              "      <div>\n",
              "<style scoped>\n",
              "    .dataframe tbody tr th:only-of-type {\n",
              "        vertical-align: middle;\n",
              "    }\n",
              "\n",
              "    .dataframe tbody tr th {\n",
              "        vertical-align: top;\n",
              "    }\n",
              "\n",
              "    .dataframe thead th {\n",
              "        text-align: right;\n",
              "    }\n",
              "</style>\n",
              "<table border=\"1\" class=\"dataframe\">\n",
              "  <thead>\n",
              "    <tr style=\"text-align: right;\">\n",
              "      <th></th>\n",
              "      <th>Datetime</th>\n",
              "      <th>Demand</th>\n",
              "      <th>BDL_tmpf</th>\n",
              "      <th>BDL_dwpf</th>\n",
              "      <th>BDL_relh</th>\n",
              "      <th>BDL_drct</th>\n",
              "      <th>BDL_sknt</th>\n",
              "      <th>BDL_p01i</th>\n",
              "      <th>BDL_alti</th>\n",
              "      <th>BDL_mslp</th>\n",
              "      <th>BDL_vsby</th>\n",
              "    </tr>\n",
              "  </thead>\n",
              "  <tbody>\n",
              "    <tr>\n",
              "      <th>0</th>\n",
              "      <td>2019-01-01 00:00:00</td>\n",
              "      <td>2713.617</td>\n",
              "      <td>37.9</td>\n",
              "      <td>37.9</td>\n",
              "      <td>100.0</td>\n",
              "      <td>360.0</td>\n",
              "      <td>4.0</td>\n",
              "      <td>0.0700</td>\n",
              "      <td>29.88</td>\n",
              "      <td>1009.7</td>\n",
              "      <td>5.0</td>\n",
              "    </tr>\n",
              "    <tr>\n",
              "      <th>1</th>\n",
              "      <td>2019-01-01 01:00:00</td>\n",
              "      <td>2578.343</td>\n",
              "      <td>37.9</td>\n",
              "      <td>37.9</td>\n",
              "      <td>100.0</td>\n",
              "      <td>360.0</td>\n",
              "      <td>4.0</td>\n",
              "      <td>0.1100</td>\n",
              "      <td>29.79</td>\n",
              "      <td>1006.3</td>\n",
              "      <td>2.0</td>\n",
              "    </tr>\n",
              "    <tr>\n",
              "      <th>2</th>\n",
              "      <td>2019-01-01 02:00:00</td>\n",
              "      <td>2467.969</td>\n",
              "      <td>37.9</td>\n",
              "      <td>37.9</td>\n",
              "      <td>100.0</td>\n",
              "      <td>340.0</td>\n",
              "      <td>7.0</td>\n",
              "      <td>0.0100</td>\n",
              "      <td>29.70</td>\n",
              "      <td>1003.3</td>\n",
              "      <td>2.0</td>\n",
              "    </tr>\n",
              "    <tr>\n",
              "      <th>3</th>\n",
              "      <td>2019-01-01 03:00:00</td>\n",
              "      <td>2397.140</td>\n",
              "      <td>37.9</td>\n",
              "      <td>37.9</td>\n",
              "      <td>100.0</td>\n",
              "      <td>310.0</td>\n",
              "      <td>6.0</td>\n",
              "      <td>0.0100</td>\n",
              "      <td>29.63</td>\n",
              "      <td>1002.3</td>\n",
              "      <td>1.5</td>\n",
              "    </tr>\n",
              "    <tr>\n",
              "      <th>4</th>\n",
              "      <td>2019-01-01 04:00:00</td>\n",
              "      <td>2381.258</td>\n",
              "      <td>37.9</td>\n",
              "      <td>37.9</td>\n",
              "      <td>100.0</td>\n",
              "      <td>140.0</td>\n",
              "      <td>3.0</td>\n",
              "      <td>0.0001</td>\n",
              "      <td>29.58</td>\n",
              "      <td>1001.2</td>\n",
              "      <td>1.5</td>\n",
              "    </tr>\n",
              "  </tbody>\n",
              "</table>\n",
              "</div>\n",
              "      <button class=\"colab-df-convert\" onclick=\"convertToInteractive('df-c1a47398-e74a-4e69-b674-ff6186a2831e')\"\n",
              "              title=\"Convert this dataframe to an interactive table.\"\n",
              "              style=\"display:none;\">\n",
              "        \n",
              "  <svg xmlns=\"http://www.w3.org/2000/svg\" height=\"24px\"viewBox=\"0 0 24 24\"\n",
              "       width=\"24px\">\n",
              "    <path d=\"M0 0h24v24H0V0z\" fill=\"none\"/>\n",
              "    <path d=\"M18.56 5.44l.94 2.06.94-2.06 2.06-.94-2.06-.94-.94-2.06-.94 2.06-2.06.94zm-11 1L8.5 8.5l.94-2.06 2.06-.94-2.06-.94L8.5 2.5l-.94 2.06-2.06.94zm10 10l.94 2.06.94-2.06 2.06-.94-2.06-.94-.94-2.06-.94 2.06-2.06.94z\"/><path d=\"M17.41 7.96l-1.37-1.37c-.4-.4-.92-.59-1.43-.59-.52 0-1.04.2-1.43.59L10.3 9.45l-7.72 7.72c-.78.78-.78 2.05 0 2.83L4 21.41c.39.39.9.59 1.41.59.51 0 1.02-.2 1.41-.59l7.78-7.78 2.81-2.81c.8-.78.8-2.07 0-2.86zM5.41 20L4 18.59l7.72-7.72 1.47 1.35L5.41 20z\"/>\n",
              "  </svg>\n",
              "      </button>\n",
              "      \n",
              "  <style>\n",
              "    .colab-df-container {\n",
              "      display:flex;\n",
              "      flex-wrap:wrap;\n",
              "      gap: 12px;\n",
              "    }\n",
              "\n",
              "    .colab-df-convert {\n",
              "      background-color: #E8F0FE;\n",
              "      border: none;\n",
              "      border-radius: 50%;\n",
              "      cursor: pointer;\n",
              "      display: none;\n",
              "      fill: #1967D2;\n",
              "      height: 32px;\n",
              "      padding: 0 0 0 0;\n",
              "      width: 32px;\n",
              "    }\n",
              "\n",
              "    .colab-df-convert:hover {\n",
              "      background-color: #E2EBFA;\n",
              "      box-shadow: 0px 1px 2px rgba(60, 64, 67, 0.3), 0px 1px 3px 1px rgba(60, 64, 67, 0.15);\n",
              "      fill: #174EA6;\n",
              "    }\n",
              "\n",
              "    [theme=dark] .colab-df-convert {\n",
              "      background-color: #3B4455;\n",
              "      fill: #D2E3FC;\n",
              "    }\n",
              "\n",
              "    [theme=dark] .colab-df-convert:hover {\n",
              "      background-color: #434B5C;\n",
              "      box-shadow: 0px 1px 3px 1px rgba(0, 0, 0, 0.15);\n",
              "      filter: drop-shadow(0px 1px 2px rgba(0, 0, 0, 0.3));\n",
              "      fill: #FFFFFF;\n",
              "    }\n",
              "  </style>\n",
              "\n",
              "      <script>\n",
              "        const buttonEl =\n",
              "          document.querySelector('#df-c1a47398-e74a-4e69-b674-ff6186a2831e button.colab-df-convert');\n",
              "        buttonEl.style.display =\n",
              "          google.colab.kernel.accessAllowed ? 'block' : 'none';\n",
              "\n",
              "        async function convertToInteractive(key) {\n",
              "          const element = document.querySelector('#df-c1a47398-e74a-4e69-b674-ff6186a2831e');\n",
              "          const dataTable =\n",
              "            await google.colab.kernel.invokeFunction('convertToInteractive',\n",
              "                                                     [key], {});\n",
              "          if (!dataTable) return;\n",
              "\n",
              "          const docLinkHtml = 'Like what you see? Visit the ' +\n",
              "            '<a target=\"_blank\" href=https://colab.research.google.com/notebooks/data_table.ipynb>data table notebook</a>'\n",
              "            + ' to learn more about interactive tables.';\n",
              "          element.innerHTML = '';\n",
              "          dataTable['output_type'] = 'display_data';\n",
              "          await google.colab.output.renderOutput(dataTable, element);\n",
              "          const docLink = document.createElement('div');\n",
              "          docLink.innerHTML = docLinkHtml;\n",
              "          element.appendChild(docLink);\n",
              "        }\n",
              "      </script>\n",
              "    </div>\n",
              "  </div>\n",
              "  "
            ],
            "text/plain": [
              "              Datetime    Demand  BDL_tmpf  BDL_dwpf  BDL_relh  BDL_drct  \\\n",
              "0  2019-01-01 00:00:00  2713.617      37.9      37.9     100.0     360.0   \n",
              "1  2019-01-01 01:00:00  2578.343      37.9      37.9     100.0     360.0   \n",
              "2  2019-01-01 02:00:00  2467.969      37.9      37.9     100.0     340.0   \n",
              "3  2019-01-01 03:00:00  2397.140      37.9      37.9     100.0     310.0   \n",
              "4  2019-01-01 04:00:00  2381.258      37.9      37.9     100.0     140.0   \n",
              "\n",
              "   BDL_sknt  BDL_p01i  BDL_alti  BDL_mslp  BDL_vsby  \n",
              "0       4.0    0.0700     29.88    1009.7       5.0  \n",
              "1       4.0    0.1100     29.79    1006.3       2.0  \n",
              "2       7.0    0.0100     29.70    1003.3       2.0  \n",
              "3       6.0    0.0100     29.63    1002.3       1.5  \n",
              "4       3.0    0.0001     29.58    1001.2       1.5  "
            ]
          },
          "execution_count": 5,
          "metadata": {},
          "output_type": "execute_result"
        }
      ],
      "source": [
        "# checking the data\n",
        "df.head()"
      ]
    },
    {
      "cell_type": "code",
      "execution_count": null,
      "metadata": {
        "colab": {
          "base_uri": "https://localhost:8080/",
          "height": 206
        },
        "id": "2QdglqhuPaZP",
        "outputId": "6419f6d2-c951-4eb5-d835-f852387e8d9d"
      },
      "outputs": [
        {
          "data": {
            "text/html": [
              "\n",
              "  <div id=\"df-ff4e48e2-2bd0-4040-8d86-4ef207a03ef3\">\n",
              "    <div class=\"colab-df-container\">\n",
              "      <div>\n",
              "<style scoped>\n",
              "    .dataframe tbody tr th:only-of-type {\n",
              "        vertical-align: middle;\n",
              "    }\n",
              "\n",
              "    .dataframe tbody tr th {\n",
              "        vertical-align: top;\n",
              "    }\n",
              "\n",
              "    .dataframe thead th {\n",
              "        text-align: right;\n",
              "    }\n",
              "</style>\n",
              "<table border=\"1\" class=\"dataframe\">\n",
              "  <thead>\n",
              "    <tr style=\"text-align: right;\">\n",
              "      <th></th>\n",
              "      <th>Datetime</th>\n",
              "      <th>Demand</th>\n",
              "      <th>BDL_tmpf</th>\n",
              "      <th>BDL_dwpf</th>\n",
              "      <th>BDL_relh</th>\n",
              "      <th>BDL_drct</th>\n",
              "      <th>BDL_sknt</th>\n",
              "      <th>BDL_p01i</th>\n",
              "      <th>BDL_alti</th>\n",
              "      <th>BDL_mslp</th>\n",
              "      <th>BDL_vsby</th>\n",
              "    </tr>\n",
              "  </thead>\n",
              "  <tbody>\n",
              "    <tr>\n",
              "      <th>96422</th>\n",
              "      <td>2012-12-31 19:00:00</td>\n",
              "      <td>4158.0</td>\n",
              "      <td>33.98</td>\n",
              "      <td>19.94</td>\n",
              "      <td>56.02</td>\n",
              "      <td>190.0</td>\n",
              "      <td>7.0</td>\n",
              "      <td>0.0</td>\n",
              "      <td>29.86</td>\n",
              "      <td>1011.4</td>\n",
              "      <td>10.0</td>\n",
              "    </tr>\n",
              "    <tr>\n",
              "      <th>96423</th>\n",
              "      <td>2012-12-31 20:00:00</td>\n",
              "      <td>3920.0</td>\n",
              "      <td>33.08</td>\n",
              "      <td>21.02</td>\n",
              "      <td>60.81</td>\n",
              "      <td>190.0</td>\n",
              "      <td>7.0</td>\n",
              "      <td>0.0</td>\n",
              "      <td>29.84</td>\n",
              "      <td>1010.6</td>\n",
              "      <td>10.0</td>\n",
              "    </tr>\n",
              "    <tr>\n",
              "      <th>96424</th>\n",
              "      <td>2012-12-31 21:00:00</td>\n",
              "      <td>3708.0</td>\n",
              "      <td>33.08</td>\n",
              "      <td>21.02</td>\n",
              "      <td>60.81</td>\n",
              "      <td>180.0</td>\n",
              "      <td>7.0</td>\n",
              "      <td>0.0</td>\n",
              "      <td>29.82</td>\n",
              "      <td>1009.8</td>\n",
              "      <td>10.0</td>\n",
              "    </tr>\n",
              "    <tr>\n",
              "      <th>96425</th>\n",
              "      <td>2012-12-31 22:00:00</td>\n",
              "      <td>3497.0</td>\n",
              "      <td>33.08</td>\n",
              "      <td>21.02</td>\n",
              "      <td>60.81</td>\n",
              "      <td>180.0</td>\n",
              "      <td>7.0</td>\n",
              "      <td>0.0</td>\n",
              "      <td>29.80</td>\n",
              "      <td>1009.4</td>\n",
              "      <td>10.0</td>\n",
              "    </tr>\n",
              "    <tr>\n",
              "      <th>96426</th>\n",
              "      <td>2012-12-31 23:00:00</td>\n",
              "      <td>3281.0</td>\n",
              "      <td>33.98</td>\n",
              "      <td>21.02</td>\n",
              "      <td>58.66</td>\n",
              "      <td>200.0</td>\n",
              "      <td>6.0</td>\n",
              "      <td>0.0</td>\n",
              "      <td>29.79</td>\n",
              "      <td>1009.0</td>\n",
              "      <td>10.0</td>\n",
              "    </tr>\n",
              "  </tbody>\n",
              "</table>\n",
              "</div>\n",
              "      <button class=\"colab-df-convert\" onclick=\"convertToInteractive('df-ff4e48e2-2bd0-4040-8d86-4ef207a03ef3')\"\n",
              "              title=\"Convert this dataframe to an interactive table.\"\n",
              "              style=\"display:none;\">\n",
              "        \n",
              "  <svg xmlns=\"http://www.w3.org/2000/svg\" height=\"24px\"viewBox=\"0 0 24 24\"\n",
              "       width=\"24px\">\n",
              "    <path d=\"M0 0h24v24H0V0z\" fill=\"none\"/>\n",
              "    <path d=\"M18.56 5.44l.94 2.06.94-2.06 2.06-.94-2.06-.94-.94-2.06-.94 2.06-2.06.94zm-11 1L8.5 8.5l.94-2.06 2.06-.94-2.06-.94L8.5 2.5l-.94 2.06-2.06.94zm10 10l.94 2.06.94-2.06 2.06-.94-2.06-.94-.94-2.06-.94 2.06-2.06.94z\"/><path d=\"M17.41 7.96l-1.37-1.37c-.4-.4-.92-.59-1.43-.59-.52 0-1.04.2-1.43.59L10.3 9.45l-7.72 7.72c-.78.78-.78 2.05 0 2.83L4 21.41c.39.39.9.59 1.41.59.51 0 1.02-.2 1.41-.59l7.78-7.78 2.81-2.81c.8-.78.8-2.07 0-2.86zM5.41 20L4 18.59l7.72-7.72 1.47 1.35L5.41 20z\"/>\n",
              "  </svg>\n",
              "      </button>\n",
              "      \n",
              "  <style>\n",
              "    .colab-df-container {\n",
              "      display:flex;\n",
              "      flex-wrap:wrap;\n",
              "      gap: 12px;\n",
              "    }\n",
              "\n",
              "    .colab-df-convert {\n",
              "      background-color: #E8F0FE;\n",
              "      border: none;\n",
              "      border-radius: 50%;\n",
              "      cursor: pointer;\n",
              "      display: none;\n",
              "      fill: #1967D2;\n",
              "      height: 32px;\n",
              "      padding: 0 0 0 0;\n",
              "      width: 32px;\n",
              "    }\n",
              "\n",
              "    .colab-df-convert:hover {\n",
              "      background-color: #E2EBFA;\n",
              "      box-shadow: 0px 1px 2px rgba(60, 64, 67, 0.3), 0px 1px 3px 1px rgba(60, 64, 67, 0.15);\n",
              "      fill: #174EA6;\n",
              "    }\n",
              "\n",
              "    [theme=dark] .colab-df-convert {\n",
              "      background-color: #3B4455;\n",
              "      fill: #D2E3FC;\n",
              "    }\n",
              "\n",
              "    [theme=dark] .colab-df-convert:hover {\n",
              "      background-color: #434B5C;\n",
              "      box-shadow: 0px 1px 3px 1px rgba(0, 0, 0, 0.15);\n",
              "      filter: drop-shadow(0px 1px 2px rgba(0, 0, 0, 0.3));\n",
              "      fill: #FFFFFF;\n",
              "    }\n",
              "  </style>\n",
              "\n",
              "      <script>\n",
              "        const buttonEl =\n",
              "          document.querySelector('#df-ff4e48e2-2bd0-4040-8d86-4ef207a03ef3 button.colab-df-convert');\n",
              "        buttonEl.style.display =\n",
              "          google.colab.kernel.accessAllowed ? 'block' : 'none';\n",
              "\n",
              "        async function convertToInteractive(key) {\n",
              "          const element = document.querySelector('#df-ff4e48e2-2bd0-4040-8d86-4ef207a03ef3');\n",
              "          const dataTable =\n",
              "            await google.colab.kernel.invokeFunction('convertToInteractive',\n",
              "                                                     [key], {});\n",
              "          if (!dataTable) return;\n",
              "\n",
              "          const docLinkHtml = 'Like what you see? Visit the ' +\n",
              "            '<a target=\"_blank\" href=https://colab.research.google.com/notebooks/data_table.ipynb>data table notebook</a>'\n",
              "            + ' to learn more about interactive tables.';\n",
              "          element.innerHTML = '';\n",
              "          dataTable['output_type'] = 'display_data';\n",
              "          await google.colab.output.renderOutput(dataTable, element);\n",
              "          const docLink = document.createElement('div');\n",
              "          docLink.innerHTML = docLinkHtml;\n",
              "          element.appendChild(docLink);\n",
              "        }\n",
              "      </script>\n",
              "    </div>\n",
              "  </div>\n",
              "  "
            ],
            "text/plain": [
              "                  Datetime  Demand  BDL_tmpf  BDL_dwpf  BDL_relh  BDL_drct  \\\n",
              "96422  2012-12-31 19:00:00  4158.0     33.98     19.94     56.02     190.0   \n",
              "96423  2012-12-31 20:00:00  3920.0     33.08     21.02     60.81     190.0   \n",
              "96424  2012-12-31 21:00:00  3708.0     33.08     21.02     60.81     180.0   \n",
              "96425  2012-12-31 22:00:00  3497.0     33.08     21.02     60.81     180.0   \n",
              "96426  2012-12-31 23:00:00  3281.0     33.98     21.02     58.66     200.0   \n",
              "\n",
              "       BDL_sknt  BDL_p01i  BDL_alti  BDL_mslp  BDL_vsby  \n",
              "96422       7.0       0.0     29.86    1011.4      10.0  \n",
              "96423       7.0       0.0     29.84    1010.6      10.0  \n",
              "96424       7.0       0.0     29.82    1009.8      10.0  \n",
              "96425       7.0       0.0     29.80    1009.4      10.0  \n",
              "96426       6.0       0.0     29.79    1009.0      10.0  "
            ]
          },
          "execution_count": 6,
          "metadata": {},
          "output_type": "execute_result"
        }
      ],
      "source": [
        "df.tail()"
      ]
    },
    {
      "cell_type": "code",
      "execution_count": null,
      "metadata": {
        "colab": {
          "base_uri": "https://localhost:8080/"
        },
        "id": "bF8U8aWROE1T",
        "outputId": "02facb12-ff32-4344-c96c-842d0c2a7c97"
      },
      "outputs": [
        {
          "data": {
            "text/plain": [
              "(96427, 11)"
            ]
          },
          "execution_count": 7,
          "metadata": {},
          "output_type": "execute_result"
        }
      ],
      "source": [
        "# Checking shape of data\n",
        "df.shape"
      ]
    },
    {
      "cell_type": "code",
      "execution_count": null,
      "metadata": {
        "colab": {
          "base_uri": "https://localhost:8080/"
        },
        "id": "sYOzH0DkOWPx",
        "outputId": "89fe7341-fc81-4f91-85d8-c97817d5fd78"
      },
      "outputs": [
        {
          "data": {
            "text/plain": [
              "Datetime      0\n",
              "Demand        0\n",
              "BDL_tmpf    267\n",
              "BDL_dwpf    267\n",
              "BDL_relh    267\n",
              "BDL_drct    267\n",
              "BDL_sknt    267\n",
              "BDL_p01i    267\n",
              "BDL_alti    267\n",
              "BDL_mslp    267\n",
              "BDL_vsby    267\n",
              "dtype: int64"
            ]
          },
          "execution_count": 8,
          "metadata": {},
          "output_type": "execute_result"
        }
      ],
      "source": [
        "# checking missing values by column\n",
        "df.isnull().sum()"
      ]
    },
    {
      "cell_type": "code",
      "execution_count": null,
      "metadata": {
        "id": "IfPN5UIROmav"
      },
      "outputs": [],
      "source": [
        "# there seems to be 267 mising values in each of our predictor columns\n",
        "# since we have almost 10k rows, getting rid of the ones with missing values\n",
        "\n",
        "df.dropna(axis = 0, inplace = True)"
      ]
    },
    {
      "cell_type": "code",
      "execution_count": null,
      "metadata": {
        "colab": {
          "base_uri": "https://localhost:8080/"
        },
        "id": "R65BIs8hQQIW",
        "outputId": "07ecf463-9d02-4a2d-ca24-df3370596671"
      },
      "outputs": [
        {
          "data": {
            "text/plain": [
              "Datetime    0\n",
              "Demand      0\n",
              "BDL_tmpf    0\n",
              "BDL_dwpf    0\n",
              "BDL_relh    0\n",
              "BDL_drct    0\n",
              "BDL_sknt    0\n",
              "BDL_p01i    0\n",
              "BDL_alti    0\n",
              "BDL_mslp    0\n",
              "BDL_vsby    0\n",
              "dtype: int64"
            ]
          },
          "execution_count": 10,
          "metadata": {},
          "output_type": "execute_result"
        }
      ],
      "source": [
        "# chekcing if there is any mising values left\n",
        "\n",
        "df.isnull().sum()"
      ]
    },
    {
      "cell_type": "code",
      "execution_count": null,
      "metadata": {
        "colab": {
          "base_uri": "https://localhost:8080/"
        },
        "id": "gB76ElrpUPN8",
        "outputId": "d7d86094-3533-4075-99fd-941821f13353"
      },
      "outputs": [
        {
          "name": "stdout",
          "output_type": "stream",
          "text": [
            "<class 'pandas.core.frame.DataFrame'>\n",
            "Int64Index: 96160 entries, 0 to 96426\n",
            "Data columns (total 11 columns):\n",
            " #   Column    Non-Null Count  Dtype         \n",
            "---  ------    --------------  -----         \n",
            " 0   Datetime  96160 non-null  datetime64[ns]\n",
            " 1   Demand    96160 non-null  float64       \n",
            " 2   BDL_tmpf  96160 non-null  float64       \n",
            " 3   BDL_dwpf  96160 non-null  float64       \n",
            " 4   BDL_relh  96160 non-null  float64       \n",
            " 5   BDL_drct  96160 non-null  float64       \n",
            " 6   BDL_sknt  96160 non-null  float64       \n",
            " 7   BDL_p01i  96160 non-null  float64       \n",
            " 8   BDL_alti  96160 non-null  float64       \n",
            " 9   BDL_mslp  96160 non-null  float64       \n",
            " 10  BDL_vsby  96160 non-null  float64       \n",
            "dtypes: datetime64[ns](1), float64(10)\n",
            "memory usage: 8.8 MB\n"
          ]
        }
      ],
      "source": [
        "# converting datetime column to correct data type\n",
        "df['Datetime']= pd.to_datetime(df['Datetime'])\n",
        "\n",
        "# checking data types\n",
        "df.info()"
      ]
    },
    {
      "cell_type": "code",
      "execution_count": null,
      "metadata": {
        "colab": {
          "base_uri": "https://localhost:8080/",
          "height": 300
        },
        "id": "7CumBN3WP0bO",
        "outputId": "bb8d580a-b616-499a-b3c4-e3bfb60d1ddc"
      },
      "outputs": [
        {
          "data": {
            "text/html": [
              "\n",
              "  <div id=\"df-f2f9a801-c2d6-41b6-bff7-408e04b3067e\">\n",
              "    <div class=\"colab-df-container\">\n",
              "      <div>\n",
              "<style scoped>\n",
              "    .dataframe tbody tr th:only-of-type {\n",
              "        vertical-align: middle;\n",
              "    }\n",
              "\n",
              "    .dataframe tbody tr th {\n",
              "        vertical-align: top;\n",
              "    }\n",
              "\n",
              "    .dataframe thead th {\n",
              "        text-align: right;\n",
              "    }\n",
              "</style>\n",
              "<table border=\"1\" class=\"dataframe\">\n",
              "  <thead>\n",
              "    <tr style=\"text-align: right;\">\n",
              "      <th></th>\n",
              "      <th>Demand</th>\n",
              "      <th>BDL_tmpf</th>\n",
              "      <th>BDL_dwpf</th>\n",
              "      <th>BDL_relh</th>\n",
              "      <th>BDL_drct</th>\n",
              "      <th>BDL_sknt</th>\n",
              "      <th>BDL_p01i</th>\n",
              "      <th>BDL_alti</th>\n",
              "      <th>BDL_mslp</th>\n",
              "      <th>BDL_vsby</th>\n",
              "    </tr>\n",
              "  </thead>\n",
              "  <tbody>\n",
              "    <tr>\n",
              "      <th>count</th>\n",
              "      <td>96160.000000</td>\n",
              "      <td>96160.000000</td>\n",
              "      <td>96160.000000</td>\n",
              "      <td>96160.000000</td>\n",
              "      <td>96160.000000</td>\n",
              "      <td>96160.000000</td>\n",
              "      <td>96160.000000</td>\n",
              "      <td>96160.000000</td>\n",
              "      <td>96160.000000</td>\n",
              "      <td>96160.000000</td>\n",
              "    </tr>\n",
              "    <tr>\n",
              "      <th>mean</th>\n",
              "      <td>3388.871097</td>\n",
              "      <td>51.951929</td>\n",
              "      <td>39.643082</td>\n",
              "      <td>65.596163</td>\n",
              "      <td>221.359297</td>\n",
              "      <td>7.566077</td>\n",
              "      <td>0.005532</td>\n",
              "      <td>30.018212</td>\n",
              "      <td>1010.126411</td>\n",
              "      <td>9.340668</td>\n",
              "    </tr>\n",
              "    <tr>\n",
              "      <th>std</th>\n",
              "      <td>761.597507</td>\n",
              "      <td>19.318457</td>\n",
              "      <td>19.695832</td>\n",
              "      <td>21.408473</td>\n",
              "      <td>118.585969</td>\n",
              "      <td>4.771563</td>\n",
              "      <td>0.037132</td>\n",
              "      <td>0.290565</td>\n",
              "      <td>80.112071</td>\n",
              "      <td>1.978791</td>\n",
              "    </tr>\n",
              "    <tr>\n",
              "      <th>min</th>\n",
              "      <td>1372.000000</td>\n",
              "      <td>-11.020000</td>\n",
              "      <td>-27.040000</td>\n",
              "      <td>0.000000</td>\n",
              "      <td>0.000000</td>\n",
              "      <td>0.000000</td>\n",
              "      <td>0.000000</td>\n",
              "      <td>0.000000</td>\n",
              "      <td>0.000000</td>\n",
              "      <td>0.000000</td>\n",
              "    </tr>\n",
              "    <tr>\n",
              "      <th>25%</th>\n",
              "      <td>2843.720500</td>\n",
              "      <td>36.000000</td>\n",
              "      <td>24.980000</td>\n",
              "      <td>49.440000</td>\n",
              "      <td>170.000000</td>\n",
              "      <td>4.000000</td>\n",
              "      <td>0.000000</td>\n",
              "      <td>29.870000</td>\n",
              "      <td>1011.200000</td>\n",
              "      <td>10.000000</td>\n",
              "    </tr>\n",
              "    <tr>\n",
              "      <th>50%</th>\n",
              "      <td>3333.565000</td>\n",
              "      <td>52.000000</td>\n",
              "      <td>41.000000</td>\n",
              "      <td>66.635000</td>\n",
              "      <td>230.000000</td>\n",
              "      <td>7.000000</td>\n",
              "      <td>0.000000</td>\n",
              "      <td>30.020000</td>\n",
              "      <td>1016.300000</td>\n",
              "      <td>10.000000</td>\n",
              "    </tr>\n",
              "    <tr>\n",
              "      <th>75%</th>\n",
              "      <td>3813.664750</td>\n",
              "      <td>68.000000</td>\n",
              "      <td>55.940000</td>\n",
              "      <td>84.440000</td>\n",
              "      <td>330.000000</td>\n",
              "      <td>10.000000</td>\n",
              "      <td>0.000000</td>\n",
              "      <td>30.170000</td>\n",
              "      <td>1021.500000</td>\n",
              "      <td>10.000000</td>\n",
              "    </tr>\n",
              "    <tr>\n",
              "      <th>max</th>\n",
              "      <td>7219.000000</td>\n",
              "      <td>102.020000</td>\n",
              "      <td>78.080000</td>\n",
              "      <td>100.000000</td>\n",
              "      <td>360.000000</td>\n",
              "      <td>40.000000</td>\n",
              "      <td>1.960000</td>\n",
              "      <td>30.850000</td>\n",
              "      <td>1044.700000</td>\n",
              "      <td>10.000000</td>\n",
              "    </tr>\n",
              "  </tbody>\n",
              "</table>\n",
              "</div>\n",
              "      <button class=\"colab-df-convert\" onclick=\"convertToInteractive('df-f2f9a801-c2d6-41b6-bff7-408e04b3067e')\"\n",
              "              title=\"Convert this dataframe to an interactive table.\"\n",
              "              style=\"display:none;\">\n",
              "        \n",
              "  <svg xmlns=\"http://www.w3.org/2000/svg\" height=\"24px\"viewBox=\"0 0 24 24\"\n",
              "       width=\"24px\">\n",
              "    <path d=\"M0 0h24v24H0V0z\" fill=\"none\"/>\n",
              "    <path d=\"M18.56 5.44l.94 2.06.94-2.06 2.06-.94-2.06-.94-.94-2.06-.94 2.06-2.06.94zm-11 1L8.5 8.5l.94-2.06 2.06-.94-2.06-.94L8.5 2.5l-.94 2.06-2.06.94zm10 10l.94 2.06.94-2.06 2.06-.94-2.06-.94-.94-2.06-.94 2.06-2.06.94z\"/><path d=\"M17.41 7.96l-1.37-1.37c-.4-.4-.92-.59-1.43-.59-.52 0-1.04.2-1.43.59L10.3 9.45l-7.72 7.72c-.78.78-.78 2.05 0 2.83L4 21.41c.39.39.9.59 1.41.59.51 0 1.02-.2 1.41-.59l7.78-7.78 2.81-2.81c.8-.78.8-2.07 0-2.86zM5.41 20L4 18.59l7.72-7.72 1.47 1.35L5.41 20z\"/>\n",
              "  </svg>\n",
              "      </button>\n",
              "      \n",
              "  <style>\n",
              "    .colab-df-container {\n",
              "      display:flex;\n",
              "      flex-wrap:wrap;\n",
              "      gap: 12px;\n",
              "    }\n",
              "\n",
              "    .colab-df-convert {\n",
              "      background-color: #E8F0FE;\n",
              "      border: none;\n",
              "      border-radius: 50%;\n",
              "      cursor: pointer;\n",
              "      display: none;\n",
              "      fill: #1967D2;\n",
              "      height: 32px;\n",
              "      padding: 0 0 0 0;\n",
              "      width: 32px;\n",
              "    }\n",
              "\n",
              "    .colab-df-convert:hover {\n",
              "      background-color: #E2EBFA;\n",
              "      box-shadow: 0px 1px 2px rgba(60, 64, 67, 0.3), 0px 1px 3px 1px rgba(60, 64, 67, 0.15);\n",
              "      fill: #174EA6;\n",
              "    }\n",
              "\n",
              "    [theme=dark] .colab-df-convert {\n",
              "      background-color: #3B4455;\n",
              "      fill: #D2E3FC;\n",
              "    }\n",
              "\n",
              "    [theme=dark] .colab-df-convert:hover {\n",
              "      background-color: #434B5C;\n",
              "      box-shadow: 0px 1px 3px 1px rgba(0, 0, 0, 0.15);\n",
              "      filter: drop-shadow(0px 1px 2px rgba(0, 0, 0, 0.3));\n",
              "      fill: #FFFFFF;\n",
              "    }\n",
              "  </style>\n",
              "\n",
              "      <script>\n",
              "        const buttonEl =\n",
              "          document.querySelector('#df-f2f9a801-c2d6-41b6-bff7-408e04b3067e button.colab-df-convert');\n",
              "        buttonEl.style.display =\n",
              "          google.colab.kernel.accessAllowed ? 'block' : 'none';\n",
              "\n",
              "        async function convertToInteractive(key) {\n",
              "          const element = document.querySelector('#df-f2f9a801-c2d6-41b6-bff7-408e04b3067e');\n",
              "          const dataTable =\n",
              "            await google.colab.kernel.invokeFunction('convertToInteractive',\n",
              "                                                     [key], {});\n",
              "          if (!dataTable) return;\n",
              "\n",
              "          const docLinkHtml = 'Like what you see? Visit the ' +\n",
              "            '<a target=\"_blank\" href=https://colab.research.google.com/notebooks/data_table.ipynb>data table notebook</a>'\n",
              "            + ' to learn more about interactive tables.';\n",
              "          element.innerHTML = '';\n",
              "          dataTable['output_type'] = 'display_data';\n",
              "          await google.colab.output.renderOutput(dataTable, element);\n",
              "          const docLink = document.createElement('div');\n",
              "          docLink.innerHTML = docLinkHtml;\n",
              "          element.appendChild(docLink);\n",
              "        }\n",
              "      </script>\n",
              "    </div>\n",
              "  </div>\n",
              "  "
            ],
            "text/plain": [
              "             Demand      BDL_tmpf      BDL_dwpf      BDL_relh      BDL_drct  \\\n",
              "count  96160.000000  96160.000000  96160.000000  96160.000000  96160.000000   \n",
              "mean    3388.871097     51.951929     39.643082     65.596163    221.359297   \n",
              "std      761.597507     19.318457     19.695832     21.408473    118.585969   \n",
              "min     1372.000000    -11.020000    -27.040000      0.000000      0.000000   \n",
              "25%     2843.720500     36.000000     24.980000     49.440000    170.000000   \n",
              "50%     3333.565000     52.000000     41.000000     66.635000    230.000000   \n",
              "75%     3813.664750     68.000000     55.940000     84.440000    330.000000   \n",
              "max     7219.000000    102.020000     78.080000    100.000000    360.000000   \n",
              "\n",
              "           BDL_sknt      BDL_p01i      BDL_alti      BDL_mslp      BDL_vsby  \n",
              "count  96160.000000  96160.000000  96160.000000  96160.000000  96160.000000  \n",
              "mean       7.566077      0.005532     30.018212   1010.126411      9.340668  \n",
              "std        4.771563      0.037132      0.290565     80.112071      1.978791  \n",
              "min        0.000000      0.000000      0.000000      0.000000      0.000000  \n",
              "25%        4.000000      0.000000     29.870000   1011.200000     10.000000  \n",
              "50%        7.000000      0.000000     30.020000   1016.300000     10.000000  \n",
              "75%       10.000000      0.000000     30.170000   1021.500000     10.000000  \n",
              "max       40.000000      1.960000     30.850000   1044.700000     10.000000  "
            ]
          },
          "execution_count": 12,
          "metadata": {},
          "output_type": "execute_result"
        }
      ],
      "source": [
        "# Checking summary statistics of variables\n",
        "\n",
        "df.describe()"
      ]
    },
    {
      "cell_type": "code",
      "execution_count": null,
      "metadata": {
        "colab": {
          "base_uri": "https://localhost:8080/",
          "height": 363
        },
        "id": "AMAsk3WJQBCd",
        "outputId": "a5d3287b-8843-4bd4-9a33-36218e8ac1c8"
      },
      "outputs": [
        {
          "data": {
            "text/html": [
              "\n",
              "  <div id=\"df-79cfc7b7-a07b-45dc-b209-3d060921f9a5\">\n",
              "    <div class=\"colab-df-container\">\n",
              "      <div>\n",
              "<style scoped>\n",
              "    .dataframe tbody tr th:only-of-type {\n",
              "        vertical-align: middle;\n",
              "    }\n",
              "\n",
              "    .dataframe tbody tr th {\n",
              "        vertical-align: top;\n",
              "    }\n",
              "\n",
              "    .dataframe thead th {\n",
              "        text-align: right;\n",
              "    }\n",
              "</style>\n",
              "<table border=\"1\" class=\"dataframe\">\n",
              "  <thead>\n",
              "    <tr style=\"text-align: right;\">\n",
              "      <th></th>\n",
              "      <th>Demand</th>\n",
              "      <th>BDL_tmpf</th>\n",
              "      <th>BDL_dwpf</th>\n",
              "      <th>BDL_relh</th>\n",
              "      <th>BDL_drct</th>\n",
              "      <th>BDL_sknt</th>\n",
              "      <th>BDL_p01i</th>\n",
              "      <th>BDL_alti</th>\n",
              "      <th>BDL_mslp</th>\n",
              "      <th>BDL_vsby</th>\n",
              "    </tr>\n",
              "  </thead>\n",
              "  <tbody>\n",
              "    <tr>\n",
              "      <th>Demand</th>\n",
              "      <td>1.000000</td>\n",
              "      <td>0.181963</td>\n",
              "      <td>0.086978</td>\n",
              "      <td>-0.271997</td>\n",
              "      <td>-0.009826</td>\n",
              "      <td>0.145432</td>\n",
              "      <td>0.002558</td>\n",
              "      <td>-0.059607</td>\n",
              "      <td>-0.056088</td>\n",
              "      <td>0.009374</td>\n",
              "    </tr>\n",
              "    <tr>\n",
              "      <th>BDL_tmpf</th>\n",
              "      <td>0.181963</td>\n",
              "      <td>1.000000</td>\n",
              "      <td>0.887074</td>\n",
              "      <td>-0.023923</td>\n",
              "      <td>-0.102343</td>\n",
              "      <td>0.058328</td>\n",
              "      <td>-0.065150</td>\n",
              "      <td>-0.221389</td>\n",
              "      <td>-0.228984</td>\n",
              "      <td>0.091532</td>\n",
              "    </tr>\n",
              "    <tr>\n",
              "      <th>BDL_dwpf</th>\n",
              "      <td>0.086978</td>\n",
              "      <td>0.887074</td>\n",
              "      <td>1.000000</td>\n",
              "      <td>0.400708</td>\n",
              "      <td>-0.147756</td>\n",
              "      <td>-0.096811</td>\n",
              "      <td>0.104016</td>\n",
              "      <td>-0.263386</td>\n",
              "      <td>-0.272916</td>\n",
              "      <td>-0.094819</td>\n",
              "    </tr>\n",
              "    <tr>\n",
              "      <th>BDL_relh</th>\n",
              "      <td>-0.271997</td>\n",
              "      <td>-0.023923</td>\n",
              "      <td>0.400708</td>\n",
              "      <td>1.000000</td>\n",
              "      <td>-0.099977</td>\n",
              "      <td>-0.317914</td>\n",
              "      <td>0.426816</td>\n",
              "      <td>-0.142750</td>\n",
              "      <td>-0.148432</td>\n",
              "      <td>-0.465074</td>\n",
              "    </tr>\n",
              "    <tr>\n",
              "      <th>BDL_drct</th>\n",
              "      <td>-0.009826</td>\n",
              "      <td>-0.102343</td>\n",
              "      <td>-0.147756</td>\n",
              "      <td>-0.099977</td>\n",
              "      <td>1.000000</td>\n",
              "      <td>0.313309</td>\n",
              "      <td>0.046510</td>\n",
              "      <td>-0.075562</td>\n",
              "      <td>-0.070379</td>\n",
              "      <td>0.048200</td>\n",
              "    </tr>\n",
              "    <tr>\n",
              "      <th>BDL_sknt</th>\n",
              "      <td>0.145432</td>\n",
              "      <td>0.058328</td>\n",
              "      <td>-0.096811</td>\n",
              "      <td>-0.317914</td>\n",
              "      <td>0.313309</td>\n",
              "      <td>1.000000</td>\n",
              "      <td>0.094902</td>\n",
              "      <td>-0.227674</td>\n",
              "      <td>-0.223774</td>\n",
              "      <td>0.080922</td>\n",
              "    </tr>\n",
              "    <tr>\n",
              "      <th>BDL_p01i</th>\n",
              "      <td>0.002558</td>\n",
              "      <td>-0.065150</td>\n",
              "      <td>0.104016</td>\n",
              "      <td>0.426816</td>\n",
              "      <td>0.046510</td>\n",
              "      <td>0.094902</td>\n",
              "      <td>1.000000</td>\n",
              "      <td>-0.200243</td>\n",
              "      <td>-0.205990</td>\n",
              "      <td>-0.503975</td>\n",
              "    </tr>\n",
              "    <tr>\n",
              "      <th>BDL_alti</th>\n",
              "      <td>-0.059607</td>\n",
              "      <td>-0.221389</td>\n",
              "      <td>-0.263386</td>\n",
              "      <td>-0.142750</td>\n",
              "      <td>-0.075562</td>\n",
              "      <td>-0.227674</td>\n",
              "      <td>-0.200243</td>\n",
              "      <td>1.000000</td>\n",
              "      <td>0.987667</td>\n",
              "      <td>0.149035</td>\n",
              "    </tr>\n",
              "    <tr>\n",
              "      <th>BDL_mslp</th>\n",
              "      <td>-0.056088</td>\n",
              "      <td>-0.228984</td>\n",
              "      <td>-0.272916</td>\n",
              "      <td>-0.148432</td>\n",
              "      <td>-0.070379</td>\n",
              "      <td>-0.223774</td>\n",
              "      <td>-0.205990</td>\n",
              "      <td>0.987667</td>\n",
              "      <td>1.000000</td>\n",
              "      <td>0.157346</td>\n",
              "    </tr>\n",
              "    <tr>\n",
              "      <th>BDL_vsby</th>\n",
              "      <td>0.009374</td>\n",
              "      <td>0.091532</td>\n",
              "      <td>-0.094819</td>\n",
              "      <td>-0.465074</td>\n",
              "      <td>0.048200</td>\n",
              "      <td>0.080922</td>\n",
              "      <td>-0.503975</td>\n",
              "      <td>0.149035</td>\n",
              "      <td>0.157346</td>\n",
              "      <td>1.000000</td>\n",
              "    </tr>\n",
              "  </tbody>\n",
              "</table>\n",
              "</div>\n",
              "      <button class=\"colab-df-convert\" onclick=\"convertToInteractive('df-79cfc7b7-a07b-45dc-b209-3d060921f9a5')\"\n",
              "              title=\"Convert this dataframe to an interactive table.\"\n",
              "              style=\"display:none;\">\n",
              "        \n",
              "  <svg xmlns=\"http://www.w3.org/2000/svg\" height=\"24px\"viewBox=\"0 0 24 24\"\n",
              "       width=\"24px\">\n",
              "    <path d=\"M0 0h24v24H0V0z\" fill=\"none\"/>\n",
              "    <path d=\"M18.56 5.44l.94 2.06.94-2.06 2.06-.94-2.06-.94-.94-2.06-.94 2.06-2.06.94zm-11 1L8.5 8.5l.94-2.06 2.06-.94-2.06-.94L8.5 2.5l-.94 2.06-2.06.94zm10 10l.94 2.06.94-2.06 2.06-.94-2.06-.94-.94-2.06-.94 2.06-2.06.94z\"/><path d=\"M17.41 7.96l-1.37-1.37c-.4-.4-.92-.59-1.43-.59-.52 0-1.04.2-1.43.59L10.3 9.45l-7.72 7.72c-.78.78-.78 2.05 0 2.83L4 21.41c.39.39.9.59 1.41.59.51 0 1.02-.2 1.41-.59l7.78-7.78 2.81-2.81c.8-.78.8-2.07 0-2.86zM5.41 20L4 18.59l7.72-7.72 1.47 1.35L5.41 20z\"/>\n",
              "  </svg>\n",
              "      </button>\n",
              "      \n",
              "  <style>\n",
              "    .colab-df-container {\n",
              "      display:flex;\n",
              "      flex-wrap:wrap;\n",
              "      gap: 12px;\n",
              "    }\n",
              "\n",
              "    .colab-df-convert {\n",
              "      background-color: #E8F0FE;\n",
              "      border: none;\n",
              "      border-radius: 50%;\n",
              "      cursor: pointer;\n",
              "      display: none;\n",
              "      fill: #1967D2;\n",
              "      height: 32px;\n",
              "      padding: 0 0 0 0;\n",
              "      width: 32px;\n",
              "    }\n",
              "\n",
              "    .colab-df-convert:hover {\n",
              "      background-color: #E2EBFA;\n",
              "      box-shadow: 0px 1px 2px rgba(60, 64, 67, 0.3), 0px 1px 3px 1px rgba(60, 64, 67, 0.15);\n",
              "      fill: #174EA6;\n",
              "    }\n",
              "\n",
              "    [theme=dark] .colab-df-convert {\n",
              "      background-color: #3B4455;\n",
              "      fill: #D2E3FC;\n",
              "    }\n",
              "\n",
              "    [theme=dark] .colab-df-convert:hover {\n",
              "      background-color: #434B5C;\n",
              "      box-shadow: 0px 1px 3px 1px rgba(0, 0, 0, 0.15);\n",
              "      filter: drop-shadow(0px 1px 2px rgba(0, 0, 0, 0.3));\n",
              "      fill: #FFFFFF;\n",
              "    }\n",
              "  </style>\n",
              "\n",
              "      <script>\n",
              "        const buttonEl =\n",
              "          document.querySelector('#df-79cfc7b7-a07b-45dc-b209-3d060921f9a5 button.colab-df-convert');\n",
              "        buttonEl.style.display =\n",
              "          google.colab.kernel.accessAllowed ? 'block' : 'none';\n",
              "\n",
              "        async function convertToInteractive(key) {\n",
              "          const element = document.querySelector('#df-79cfc7b7-a07b-45dc-b209-3d060921f9a5');\n",
              "          const dataTable =\n",
              "            await google.colab.kernel.invokeFunction('convertToInteractive',\n",
              "                                                     [key], {});\n",
              "          if (!dataTable) return;\n",
              "\n",
              "          const docLinkHtml = 'Like what you see? Visit the ' +\n",
              "            '<a target=\"_blank\" href=https://colab.research.google.com/notebooks/data_table.ipynb>data table notebook</a>'\n",
              "            + ' to learn more about interactive tables.';\n",
              "          element.innerHTML = '';\n",
              "          dataTable['output_type'] = 'display_data';\n",
              "          await google.colab.output.renderOutput(dataTable, element);\n",
              "          const docLink = document.createElement('div');\n",
              "          docLink.innerHTML = docLinkHtml;\n",
              "          element.appendChild(docLink);\n",
              "        }\n",
              "      </script>\n",
              "    </div>\n",
              "  </div>\n",
              "  "
            ],
            "text/plain": [
              "            Demand  BDL_tmpf  BDL_dwpf  BDL_relh  BDL_drct  BDL_sknt  \\\n",
              "Demand    1.000000  0.181963  0.086978 -0.271997 -0.009826  0.145432   \n",
              "BDL_tmpf  0.181963  1.000000  0.887074 -0.023923 -0.102343  0.058328   \n",
              "BDL_dwpf  0.086978  0.887074  1.000000  0.400708 -0.147756 -0.096811   \n",
              "BDL_relh -0.271997 -0.023923  0.400708  1.000000 -0.099977 -0.317914   \n",
              "BDL_drct -0.009826 -0.102343 -0.147756 -0.099977  1.000000  0.313309   \n",
              "BDL_sknt  0.145432  0.058328 -0.096811 -0.317914  0.313309  1.000000   \n",
              "BDL_p01i  0.002558 -0.065150  0.104016  0.426816  0.046510  0.094902   \n",
              "BDL_alti -0.059607 -0.221389 -0.263386 -0.142750 -0.075562 -0.227674   \n",
              "BDL_mslp -0.056088 -0.228984 -0.272916 -0.148432 -0.070379 -0.223774   \n",
              "BDL_vsby  0.009374  0.091532 -0.094819 -0.465074  0.048200  0.080922   \n",
              "\n",
              "          BDL_p01i  BDL_alti  BDL_mslp  BDL_vsby  \n",
              "Demand    0.002558 -0.059607 -0.056088  0.009374  \n",
              "BDL_tmpf -0.065150 -0.221389 -0.228984  0.091532  \n",
              "BDL_dwpf  0.104016 -0.263386 -0.272916 -0.094819  \n",
              "BDL_relh  0.426816 -0.142750 -0.148432 -0.465074  \n",
              "BDL_drct  0.046510 -0.075562 -0.070379  0.048200  \n",
              "BDL_sknt  0.094902 -0.227674 -0.223774  0.080922  \n",
              "BDL_p01i  1.000000 -0.200243 -0.205990 -0.503975  \n",
              "BDL_alti -0.200243  1.000000  0.987667  0.149035  \n",
              "BDL_mslp -0.205990  0.987667  1.000000  0.157346  \n",
              "BDL_vsby -0.503975  0.149035  0.157346  1.000000  "
            ]
          },
          "execution_count": 13,
          "metadata": {},
          "output_type": "execute_result"
        }
      ],
      "source": [
        "# Checking relationship among the variables\n",
        "\n",
        "df.corr(method='spearman')"
      ]
    },
    {
      "cell_type": "code",
      "execution_count": null,
      "metadata": {
        "colab": {
          "base_uri": "https://localhost:8080/",
          "height": 309
        },
        "id": "wb4OI-r8RZlv",
        "outputId": "7e446610-b78e-43ce-bfbf-9c15cd89f193"
      },
      "outputs": [
        {
          "data": {
            "image/png": "[encoded data removed]",
            "text/plain": [
              "<Figure size 432x288 with 2 Axes>"
            ]
          },
          "metadata": {},
          "output_type": "display_data"
        }
      ],
      "source": [
        "# visulaizing the correlation\n",
        "import matplotlib.pyplot as plt\n",
        "import seaborn as sns\n",
        "\n",
        "corr = df.corr()\n",
        "sns.heatmap(corr, \n",
        "            xticklabels=corr.columns.values,\n",
        "            yticklabels=corr.columns.values)\n",
        "plt.show()"
      ]
    },
    {
      "cell_type": "code",
      "execution_count": null,
      "metadata": {
        "id": "DH0cyTFJRth7"
      },
      "outputs": [],
      "source": [
        "# relative humidity seems to be strongly correlated with wind speed and visibility\n",
        "# precipitation is also strongly correlated with visibility\n",
        "# since this is weather data these correlations are expected"
      ]
    },
    {
      "cell_type": "code",
      "execution_count": null,
      "metadata": {
        "colab": {
          "base_uri": "https://localhost:8080/",
          "height": 265
        },
        "id": "0kpQ0T7S9mZ-",
        "outputId": "9edaba9d-8f31-4832-eafa-48e87362ca18"
      },
      "outputs": [
        {
          "data": {
            "image/png": "[encoded data removed]",
            "text/plain": [
              "<Figure size 432x288 with 1 Axes>"
            ]
          },
          "metadata": {},
          "output_type": "display_data"
        }
      ],
      "source": [
        "plt.plot(df['Datetime'], df['Demand'])\n",
        "plt.show()"
      ]
    },
    {
      "cell_type": "markdown",
      "metadata": {
        "id": "S58MWbDHjohL"
      },
      "source": [
        "# (0 pts - up to you!) Feature Engineering\n",
        "You may NOT use past energy usage as a feature in the model. Keep the target variable df['Demand'] separate from the other X features.\n",
        "\n",
        "While it will be useful to set the datetime column as the index (to create temporal features for modeling), you should not use the raw time stamp in your model.\n",
        "\n",
        "You are welcome to grab additional dataset to enrich your features for modeling - just be sure not to leak the target variable! Ask Dave if you want to make sure before submitting."
      ]
    },
    {
      "cell_type": "markdown",
      "metadata": {
        "id": "Pdr2wvEPjtGW"
      },
      "source": [
        "# Train/Test Split\n",
        "Everyone will use Jan 1, 2019 and beyond as test data. Everything before this date is train data."
      ]
    },
    {
      "cell_type": "code",
      "execution_count": null,
      "metadata": {
        "colab": {
          "base_uri": "https://localhost:8080/",
          "height": 238
        },
        "id": "BdgEQo4-OT8K",
        "outputId": "c12f84b0-59ab-4738-f98f-c08845fc9c98"
      },
      "outputs": [
        {
          "data": {
            "text/html": [
              "\n",
              "  <div id=\"df-f9444686-ac4b-4e97-8df0-389960630a99\">\n",
              "    <div class=\"colab-df-container\">\n",
              "      <div>\n",
              "<style scoped>\n",
              "    .dataframe tbody tr th:only-of-type {\n",
              "        vertical-align: middle;\n",
              "    }\n",
              "\n",
              "    .dataframe tbody tr th {\n",
              "        vertical-align: top;\n",
              "    }\n",
              "\n",
              "    .dataframe thead th {\n",
              "        text-align: right;\n",
              "    }\n",
              "</style>\n",
              "<table border=\"1\" class=\"dataframe\">\n",
              "  <thead>\n",
              "    <tr style=\"text-align: right;\">\n",
              "      <th></th>\n",
              "      <th>Datetime</th>\n",
              "      <th>Demand</th>\n",
              "      <th>BDL_tmpf</th>\n",
              "      <th>BDL_dwpf</th>\n",
              "      <th>BDL_relh</th>\n",
              "      <th>BDL_drct</th>\n",
              "      <th>BDL_sknt</th>\n",
              "      <th>BDL_p01i</th>\n",
              "      <th>BDL_alti</th>\n",
              "      <th>BDL_mslp</th>\n",
              "      <th>BDL_vsby</th>\n",
              "    </tr>\n",
              "    <tr>\n",
              "      <th>Datetime</th>\n",
              "      <th></th>\n",
              "      <th></th>\n",
              "      <th></th>\n",
              "      <th></th>\n",
              "      <th></th>\n",
              "      <th></th>\n",
              "      <th></th>\n",
              "      <th></th>\n",
              "      <th></th>\n",
              "      <th></th>\n",
              "      <th></th>\n",
              "    </tr>\n",
              "  </thead>\n",
              "  <tbody>\n",
              "    <tr>\n",
              "      <th>2019-01-01 00:00:00</th>\n",
              "      <td>2019-01-01 00:00:00</td>\n",
              "      <td>2713.617</td>\n",
              "      <td>37.9</td>\n",
              "      <td>37.9</td>\n",
              "      <td>100.0</td>\n",
              "      <td>360.0</td>\n",
              "      <td>4.0</td>\n",
              "      <td>0.0700</td>\n",
              "      <td>29.88</td>\n",
              "      <td>1009.7</td>\n",
              "      <td>5.0</td>\n",
              "    </tr>\n",
              "    <tr>\n",
              "      <th>2019-01-01 01:00:00</th>\n",
              "      <td>2019-01-01 01:00:00</td>\n",
              "      <td>2578.343</td>\n",
              "      <td>37.9</td>\n",
              "      <td>37.9</td>\n",
              "      <td>100.0</td>\n",
              "      <td>360.0</td>\n",
              "      <td>4.0</td>\n",
              "      <td>0.1100</td>\n",
              "      <td>29.79</td>\n",
              "      <td>1006.3</td>\n",
              "      <td>2.0</td>\n",
              "    </tr>\n",
              "    <tr>\n",
              "      <th>2019-01-01 02:00:00</th>\n",
              "      <td>2019-01-01 02:00:00</td>\n",
              "      <td>2467.969</td>\n",
              "      <td>37.9</td>\n",
              "      <td>37.9</td>\n",
              "      <td>100.0</td>\n",
              "      <td>340.0</td>\n",
              "      <td>7.0</td>\n",
              "      <td>0.0100</td>\n",
              "      <td>29.70</td>\n",
              "      <td>1003.3</td>\n",
              "      <td>2.0</td>\n",
              "    </tr>\n",
              "    <tr>\n",
              "      <th>2019-01-01 03:00:00</th>\n",
              "      <td>2019-01-01 03:00:00</td>\n",
              "      <td>2397.140</td>\n",
              "      <td>37.9</td>\n",
              "      <td>37.9</td>\n",
              "      <td>100.0</td>\n",
              "      <td>310.0</td>\n",
              "      <td>6.0</td>\n",
              "      <td>0.0100</td>\n",
              "      <td>29.63</td>\n",
              "      <td>1002.3</td>\n",
              "      <td>1.5</td>\n",
              "    </tr>\n",
              "    <tr>\n",
              "      <th>2019-01-01 04:00:00</th>\n",
              "      <td>2019-01-01 04:00:00</td>\n",
              "      <td>2381.258</td>\n",
              "      <td>37.9</td>\n",
              "      <td>37.9</td>\n",
              "      <td>100.0</td>\n",
              "      <td>140.0</td>\n",
              "      <td>3.0</td>\n",
              "      <td>0.0001</td>\n",
              "      <td>29.58</td>\n",
              "      <td>1001.2</td>\n",
              "      <td>1.5</td>\n",
              "    </tr>\n",
              "  </tbody>\n",
              "</table>\n",
              "</div>\n",
              "      <button class=\"colab-df-convert\" onclick=\"convertToInteractive('df-f9444686-ac4b-4e97-8df0-389960630a99')\"\n",
              "              title=\"Convert this dataframe to an interactive table.\"\n",
              "              style=\"display:none;\">\n",
              "        \n",
              "  <svg xmlns=\"http://www.w3.org/2000/svg\" height=\"24px\"viewBox=\"0 0 24 24\"\n",
              "       width=\"24px\">\n",
              "    <path d=\"M0 0h24v24H0V0z\" fill=\"none\"/>\n",
              "    <path d=\"M18.56 5.44l.94 2.06.94-2.06 2.06-.94-2.06-.94-.94-2.06-.94 2.06-2.06.94zm-11 1L8.5 8.5l.94-2.06 2.06-.94-2.06-.94L8.5 2.5l-.94 2.06-2.06.94zm10 10l.94 2.06.94-2.06 2.06-.94-2.06-.94-.94-2.06-.94 2.06-2.06.94z\"/><path d=\"M17.41 7.96l-1.37-1.37c-.4-.4-.92-.59-1.43-.59-.52 0-1.04.2-1.43.59L10.3 9.45l-7.72 7.72c-.78.78-.78 2.05 0 2.83L4 21.41c.39.39.9.59 1.41.59.51 0 1.02-.2 1.41-.59l7.78-7.78 2.81-2.81c.8-.78.8-2.07 0-2.86zM5.41 20L4 18.59l7.72-7.72 1.47 1.35L5.41 20z\"/>\n",
              "  </svg>\n",
              "      </button>\n",
              "      \n",
              "  <style>\n",
              "    .colab-df-container {\n",
              "      display:flex;\n",
              "      flex-wrap:wrap;\n",
              "      gap: 12px;\n",
              "    }\n",
              "\n",
              "    .colab-df-convert {\n",
              "      background-color: #E8F0FE;\n",
              "      border: none;\n",
              "      border-radius: 50%;\n",
              "      cursor: pointer;\n",
              "      display: none;\n",
              "      fill: #1967D2;\n",
              "      height: 32px;\n",
              "      padding: 0 0 0 0;\n",
              "      width: 32px;\n",
              "    }\n",
              "\n",
              "    .colab-df-convert:hover {\n",
              "      background-color: #E2EBFA;\n",
              "      box-shadow: 0px 1px 2px rgba(60, 64, 67, 0.3), 0px 1px 3px 1px rgba(60, 64, 67, 0.15);\n",
              "      fill: #174EA6;\n",
              "    }\n",
              "\n",
              "    [theme=dark] .colab-df-convert {\n",
              "      background-color: #3B4455;\n",
              "      fill: #D2E3FC;\n",
              "    }\n",
              "\n",
              "    [theme=dark] .colab-df-convert:hover {\n",
              "      background-color: #434B5C;\n",
              "      box-shadow: 0px 1px 3px 1px rgba(0, 0, 0, 0.15);\n",
              "      filter: drop-shadow(0px 1px 2px rgba(0, 0, 0, 0.3));\n",
              "      fill: #FFFFFF;\n",
              "    }\n",
              "  </style>\n",
              "\n",
              "      <script>\n",
              "        const buttonEl =\n",
              "          document.querySelector('#df-f9444686-ac4b-4e97-8df0-389960630a99 button.colab-df-convert');\n",
              "        buttonEl.style.display =\n",
              "          google.colab.kernel.accessAllowed ? 'block' : 'none';\n",
              "\n",
              "        async function convertToInteractive(key) {\n",
              "          const element = document.querySelector('#df-f9444686-ac4b-4e97-8df0-389960630a99');\n",
              "          const dataTable =\n",
              "            await google.colab.kernel.invokeFunction('convertToInteractive',\n",
              "                                                     [key], {});\n",
              "          if (!dataTable) return;\n",
              "\n",
              "          const docLinkHtml = 'Like what you see? Visit the ' +\n",
              "            '<a target=\"_blank\" href=https://colab.research.google.com/notebooks/data_table.ipynb>data table notebook</a>'\n",
              "            + ' to learn more about interactive tables.';\n",
              "          element.innerHTML = '';\n",
              "          dataTable['output_type'] = 'display_data';\n",
              "          await google.colab.output.renderOutput(dataTable, element);\n",
              "          const docLink = document.createElement('div');\n",
              "          docLink.innerHTML = docLinkHtml;\n",
              "          element.appendChild(docLink);\n",
              "        }\n",
              "      </script>\n",
              "    </div>\n",
              "  </div>\n",
              "  "
            ],
            "text/plain": [
              "                               Datetime    Demand  BDL_tmpf  BDL_dwpf  \\\n",
              "Datetime                                                                \n",
              "2019-01-01 00:00:00 2019-01-01 00:00:00  2713.617      37.9      37.9   \n",
              "2019-01-01 01:00:00 2019-01-01 01:00:00  2578.343      37.9      37.9   \n",
              "2019-01-01 02:00:00 2019-01-01 02:00:00  2467.969      37.9      37.9   \n",
              "2019-01-01 03:00:00 2019-01-01 03:00:00  2397.140      37.9      37.9   \n",
              "2019-01-01 04:00:00 2019-01-01 04:00:00  2381.258      37.9      37.9   \n",
              "\n",
              "                     BDL_relh  BDL_drct  BDL_sknt  BDL_p01i  BDL_alti  \\\n",
              "Datetime                                                                \n",
              "2019-01-01 00:00:00     100.0     360.0       4.0    0.0700     29.88   \n",
              "2019-01-01 01:00:00     100.0     360.0       4.0    0.1100     29.79   \n",
              "2019-01-01 02:00:00     100.0     340.0       7.0    0.0100     29.70   \n",
              "2019-01-01 03:00:00     100.0     310.0       6.0    0.0100     29.63   \n",
              "2019-01-01 04:00:00     100.0     140.0       3.0    0.0001     29.58   \n",
              "\n",
              "                     BDL_mslp  BDL_vsby  \n",
              "Datetime                                 \n",
              "2019-01-01 00:00:00    1009.7       5.0  \n",
              "2019-01-01 01:00:00    1006.3       2.0  \n",
              "2019-01-01 02:00:00    1003.3       2.0  \n",
              "2019-01-01 03:00:00    1002.3       1.5  \n",
              "2019-01-01 04:00:00    1001.2       1.5  "
            ]
          },
          "execution_count": 17,
          "metadata": {},
          "output_type": "execute_result"
        }
      ],
      "source": [
        "#Set date as index to split data into train and test \n",
        "df.set_index(df['Datetime'], inplace=True)\n",
        "df.head() # the Date column is now the index  "
      ]
    },
    {
      "cell_type": "code",
      "execution_count": null,
      "metadata": {
        "colab": {
          "base_uri": "https://localhost:8080/",
          "height": 238
        },
        "id": "j15xI1AkPUya",
        "outputId": "b05be10a-dde9-4e7d-f69b-7141cf8781af"
      },
      "outputs": [
        {
          "data": {
            "text/html": [
              "\n",
              "  <div id=\"df-bfc517e7-a030-4f9f-8433-8962bcf04aa2\">\n",
              "    <div class=\"colab-df-container\">\n",
              "      <div>\n",
              "<style scoped>\n",
              "    .dataframe tbody tr th:only-of-type {\n",
              "        vertical-align: middle;\n",
              "    }\n",
              "\n",
              "    .dataframe tbody tr th {\n",
              "        vertical-align: top;\n",
              "    }\n",
              "\n",
              "    .dataframe thead th {\n",
              "        text-align: right;\n",
              "    }\n",
              "</style>\n",
              "<table border=\"1\" class=\"dataframe\">\n",
              "  <thead>\n",
              "    <tr style=\"text-align: right;\">\n",
              "      <th></th>\n",
              "      <th>Demand</th>\n",
              "      <th>BDL_tmpf</th>\n",
              "      <th>BDL_dwpf</th>\n",
              "      <th>BDL_relh</th>\n",
              "      <th>BDL_drct</th>\n",
              "      <th>BDL_sknt</th>\n",
              "      <th>BDL_p01i</th>\n",
              "      <th>BDL_alti</th>\n",
              "      <th>BDL_mslp</th>\n",
              "      <th>BDL_vsby</th>\n",
              "    </tr>\n",
              "    <tr>\n",
              "      <th>Datetime</th>\n",
              "      <th></th>\n",
              "      <th></th>\n",
              "      <th></th>\n",
              "      <th></th>\n",
              "      <th></th>\n",
              "      <th></th>\n",
              "      <th></th>\n",
              "      <th></th>\n",
              "      <th></th>\n",
              "      <th></th>\n",
              "    </tr>\n",
              "  </thead>\n",
              "  <tbody>\n",
              "    <tr>\n",
              "      <th>2019-01-01 00:00:00</th>\n",
              "      <td>2713.617</td>\n",
              "      <td>37.9</td>\n",
              "      <td>37.9</td>\n",
              "      <td>100.0</td>\n",
              "      <td>360.0</td>\n",
              "      <td>4.0</td>\n",
              "      <td>0.0700</td>\n",
              "      <td>29.88</td>\n",
              "      <td>1009.7</td>\n",
              "      <td>5.0</td>\n",
              "    </tr>\n",
              "    <tr>\n",
              "      <th>2019-01-01 01:00:00</th>\n",
              "      <td>2578.343</td>\n",
              "      <td>37.9</td>\n",
              "      <td>37.9</td>\n",
              "      <td>100.0</td>\n",
              "      <td>360.0</td>\n",
              "      <td>4.0</td>\n",
              "      <td>0.1100</td>\n",
              "      <td>29.79</td>\n",
              "      <td>1006.3</td>\n",
              "      <td>2.0</td>\n",
              "    </tr>\n",
              "    <tr>\n",
              "      <th>2019-01-01 02:00:00</th>\n",
              "      <td>2467.969</td>\n",
              "      <td>37.9</td>\n",
              "      <td>37.9</td>\n",
              "      <td>100.0</td>\n",
              "      <td>340.0</td>\n",
              "      <td>7.0</td>\n",
              "      <td>0.0100</td>\n",
              "      <td>29.70</td>\n",
              "      <td>1003.3</td>\n",
              "      <td>2.0</td>\n",
              "    </tr>\n",
              "    <tr>\n",
              "      <th>2019-01-01 03:00:00</th>\n",
              "      <td>2397.140</td>\n",
              "      <td>37.9</td>\n",
              "      <td>37.9</td>\n",
              "      <td>100.0</td>\n",
              "      <td>310.0</td>\n",
              "      <td>6.0</td>\n",
              "      <td>0.0100</td>\n",
              "      <td>29.63</td>\n",
              "      <td>1002.3</td>\n",
              "      <td>1.5</td>\n",
              "    </tr>\n",
              "    <tr>\n",
              "      <th>2019-01-01 04:00:00</th>\n",
              "      <td>2381.258</td>\n",
              "      <td>37.9</td>\n",
              "      <td>37.9</td>\n",
              "      <td>100.0</td>\n",
              "      <td>140.0</td>\n",
              "      <td>3.0</td>\n",
              "      <td>0.0001</td>\n",
              "      <td>29.58</td>\n",
              "      <td>1001.2</td>\n",
              "      <td>1.5</td>\n",
              "    </tr>\n",
              "  </tbody>\n",
              "</table>\n",
              "</div>\n",
              "      <button class=\"colab-df-convert\" onclick=\"convertToInteractive('df-bfc517e7-a030-4f9f-8433-8962bcf04aa2')\"\n",
              "              title=\"Convert this dataframe to an interactive table.\"\n",
              "              style=\"display:none;\">\n",
              "        \n",
              "  <svg xmlns=\"http://www.w3.org/2000/svg\" height=\"24px\"viewBox=\"0 0 24 24\"\n",
              "       width=\"24px\">\n",
              "    <path d=\"M0 0h24v24H0V0z\" fill=\"none\"/>\n",
              "    <path d=\"M18.56 5.44l.94 2.06.94-2.06 2.06-.94-2.06-.94-.94-2.06-.94 2.06-2.06.94zm-11 1L8.5 8.5l.94-2.06 2.06-.94-2.06-.94L8.5 2.5l-.94 2.06-2.06.94zm10 10l.94 2.06.94-2.06 2.06-.94-2.06-.94-.94-2.06-.94 2.06-2.06.94z\"/><path d=\"M17.41 7.96l-1.37-1.37c-.4-.4-.92-.59-1.43-.59-.52 0-1.04.2-1.43.59L10.3 9.45l-7.72 7.72c-.78.78-.78 2.05 0 2.83L4 21.41c.39.39.9.59 1.41.59.51 0 1.02-.2 1.41-.59l7.78-7.78 2.81-2.81c.8-.78.8-2.07 0-2.86zM5.41 20L4 18.59l7.72-7.72 1.47 1.35L5.41 20z\"/>\n",
              "  </svg>\n",
              "      </button>\n",
              "      \n",
              "  <style>\n",
              "    .colab-df-container {\n",
              "      display:flex;\n",
              "      flex-wrap:wrap;\n",
              "      gap: 12px;\n",
              "    }\n",
              "\n",
              "    .colab-df-convert {\n",
              "      background-color: #E8F0FE;\n",
              "      border: none;\n",
              "      border-radius: 50%;\n",
              "      cursor: pointer;\n",
              "      display: none;\n",
              "      fill: #1967D2;\n",
              "      height: 32px;\n",
              "      padding: 0 0 0 0;\n",
              "      width: 32px;\n",
              "    }\n",
              "\n",
              "    .colab-df-convert:hover {\n",
              "      background-color: #E2EBFA;\n",
              "      box-shadow: 0px 1px 2px rgba(60, 64, 67, 0.3), 0px 1px 3px 1px rgba(60, 64, 67, 0.15);\n",
              "      fill: #174EA6;\n",
              "    }\n",
              "\n",
              "    [theme=dark] .colab-df-convert {\n",
              "      background-color: #3B4455;\n",
              "      fill: #D2E3FC;\n",
              "    }\n",
              "\n",
              "    [theme=dark] .colab-df-convert:hover {\n",
              "      background-color: #434B5C;\n",
              "      box-shadow: 0px 1px 3px 1px rgba(0, 0, 0, 0.15);\n",
              "      filter: drop-shadow(0px 1px 2px rgba(0, 0, 0, 0.3));\n",
              "      fill: #FFFFFF;\n",
              "    }\n",
              "  </style>\n",
              "\n",
              "      <script>\n",
              "        const buttonEl =\n",
              "          document.querySelector('#df-bfc517e7-a030-4f9f-8433-8962bcf04aa2 button.colab-df-convert');\n",
              "        buttonEl.style.display =\n",
              "          google.colab.kernel.accessAllowed ? 'block' : 'none';\n",
              "\n",
              "        async function convertToInteractive(key) {\n",
              "          const element = document.querySelector('#df-bfc517e7-a030-4f9f-8433-8962bcf04aa2');\n",
              "          const dataTable =\n",
              "            await google.colab.kernel.invokeFunction('convertToInteractive',\n",
              "                                                     [key], {});\n",
              "          if (!dataTable) return;\n",
              "\n",
              "          const docLinkHtml = 'Like what you see? Visit the ' +\n",
              "            '<a target=\"_blank\" href=https://colab.research.google.com/notebooks/data_table.ipynb>data table notebook</a>'\n",
              "            + ' to learn more about interactive tables.';\n",
              "          element.innerHTML = '';\n",
              "          dataTable['output_type'] = 'display_data';\n",
              "          await google.colab.output.renderOutput(dataTable, element);\n",
              "          const docLink = document.createElement('div');\n",
              "          docLink.innerHTML = docLinkHtml;\n",
              "          element.appendChild(docLink);\n",
              "        }\n",
              "      </script>\n",
              "    </div>\n",
              "  </div>\n",
              "  "
            ],
            "text/plain": [
              "                       Demand  BDL_tmpf  BDL_dwpf  BDL_relh  BDL_drct  \\\n",
              "Datetime                                                                \n",
              "2019-01-01 00:00:00  2713.617      37.9      37.9     100.0     360.0   \n",
              "2019-01-01 01:00:00  2578.343      37.9      37.9     100.0     360.0   \n",
              "2019-01-01 02:00:00  2467.969      37.9      37.9     100.0     340.0   \n",
              "2019-01-01 03:00:00  2397.140      37.9      37.9     100.0     310.0   \n",
              "2019-01-01 04:00:00  2381.258      37.9      37.9     100.0     140.0   \n",
              "\n",
              "                     BDL_sknt  BDL_p01i  BDL_alti  BDL_mslp  BDL_vsby  \n",
              "Datetime                                                               \n",
              "2019-01-01 00:00:00       4.0    0.0700     29.88    1009.7       5.0  \n",
              "2019-01-01 01:00:00       4.0    0.1100     29.79    1006.3       2.0  \n",
              "2019-01-01 02:00:00       7.0    0.0100     29.70    1003.3       2.0  \n",
              "2019-01-01 03:00:00       6.0    0.0100     29.63    1002.3       1.5  \n",
              "2019-01-01 04:00:00       3.0    0.0001     29.58    1001.2       1.5  "
            ]
          },
          "execution_count": 18,
          "metadata": {},
          "output_type": "execute_result"
        }
      ],
      "source": [
        "# we separate the year 2012-2019 for train data\n",
        "train_data = df['2012-01-01':'2019-12-31']\n",
        "# train_data = train_data.reset_index(drop=True)\n",
        "#Drop data column as this is not needed for modeling\n",
        "train_data.drop(['Datetime'],inplace=True,axis=1)\n",
        "#Check data is deleted \n",
        "train_data.head() "
      ]
    },
    {
      "cell_type": "code",
      "execution_count": null,
      "metadata": {
        "colab": {
          "base_uri": "https://localhost:8080/"
        },
        "id": "hQ2LvV5nQIs6",
        "outputId": "044a1aa6-279e-49cc-8a3e-10461d73d0fe"
      },
      "outputs": [
        {
          "data": {
            "text/plain": [
              "(70031, 10)"
            ]
          },
          "execution_count": 19,
          "metadata": {},
          "output_type": "execute_result"
        }
      ],
      "source": [
        "train_data.shape"
      ]
    },
    {
      "cell_type": "code",
      "execution_count": null,
      "metadata": {
        "colab": {
          "base_uri": "https://localhost:8080/",
          "height": 327
        },
        "id": "dWPVRHQMPygX",
        "outputId": "c3129d48-6595-4b59-a0fe-5b6bc3f36797"
      },
      "outputs": [
        {
          "name": "stderr",
          "output_type": "stream",
          "text": [
            "/usr/local/lib/python3.8/dist-packages/pandas/core/frame.py:4906: SettingWithCopyWarning: \n",
            "A value is trying to be set on a copy of a slice from a DataFrame\n",
            "\n",
            "See the caveats in the documentation: https://pandas.pydata.org/pandas-docs/stable/user_guide/indexing.html#returning-a-view-versus-a-copy\n",
            "  return super().drop(\n"
          ]
        },
        {
          "data": {
            "text/html": [
              "\n",
              "  <div id=\"df-40484c4f-e1e4-4d9a-9750-74222020835b\">\n",
              "    <div class=\"colab-df-container\">\n",
              "      <div>\n",
              "<style scoped>\n",
              "    .dataframe tbody tr th:only-of-type {\n",
              "        vertical-align: middle;\n",
              "    }\n",
              "\n",
              "    .dataframe tbody tr th {\n",
              "        vertical-align: top;\n",
              "    }\n",
              "\n",
              "    .dataframe thead th {\n",
              "        text-align: right;\n",
              "    }\n",
              "</style>\n",
              "<table border=\"1\" class=\"dataframe\">\n",
              "  <thead>\n",
              "    <tr style=\"text-align: right;\">\n",
              "      <th></th>\n",
              "      <th>Demand</th>\n",
              "      <th>BDL_tmpf</th>\n",
              "      <th>BDL_dwpf</th>\n",
              "      <th>BDL_relh</th>\n",
              "      <th>BDL_drct</th>\n",
              "      <th>BDL_sknt</th>\n",
              "      <th>BDL_p01i</th>\n",
              "      <th>BDL_alti</th>\n",
              "      <th>BDL_mslp</th>\n",
              "      <th>BDL_vsby</th>\n",
              "    </tr>\n",
              "    <tr>\n",
              "      <th>Datetime</th>\n",
              "      <th></th>\n",
              "      <th></th>\n",
              "      <th></th>\n",
              "      <th></th>\n",
              "      <th></th>\n",
              "      <th></th>\n",
              "      <th></th>\n",
              "      <th></th>\n",
              "      <th></th>\n",
              "      <th></th>\n",
              "    </tr>\n",
              "  </thead>\n",
              "  <tbody>\n",
              "    <tr>\n",
              "      <th>2019-01-01 00:00:00</th>\n",
              "      <td>2713.617</td>\n",
              "      <td>37.9</td>\n",
              "      <td>37.9</td>\n",
              "      <td>100.0</td>\n",
              "      <td>360.0</td>\n",
              "      <td>4.0</td>\n",
              "      <td>0.0700</td>\n",
              "      <td>29.88</td>\n",
              "      <td>1009.7</td>\n",
              "      <td>5.0</td>\n",
              "    </tr>\n",
              "    <tr>\n",
              "      <th>2019-01-01 01:00:00</th>\n",
              "      <td>2578.343</td>\n",
              "      <td>37.9</td>\n",
              "      <td>37.9</td>\n",
              "      <td>100.0</td>\n",
              "      <td>360.0</td>\n",
              "      <td>4.0</td>\n",
              "      <td>0.1100</td>\n",
              "      <td>29.79</td>\n",
              "      <td>1006.3</td>\n",
              "      <td>2.0</td>\n",
              "    </tr>\n",
              "    <tr>\n",
              "      <th>2019-01-01 02:00:00</th>\n",
              "      <td>2467.969</td>\n",
              "      <td>37.9</td>\n",
              "      <td>37.9</td>\n",
              "      <td>100.0</td>\n",
              "      <td>340.0</td>\n",
              "      <td>7.0</td>\n",
              "      <td>0.0100</td>\n",
              "      <td>29.70</td>\n",
              "      <td>1003.3</td>\n",
              "      <td>2.0</td>\n",
              "    </tr>\n",
              "    <tr>\n",
              "      <th>2019-01-01 03:00:00</th>\n",
              "      <td>2397.140</td>\n",
              "      <td>37.9</td>\n",
              "      <td>37.9</td>\n",
              "      <td>100.0</td>\n",
              "      <td>310.0</td>\n",
              "      <td>6.0</td>\n",
              "      <td>0.0100</td>\n",
              "      <td>29.63</td>\n",
              "      <td>1002.3</td>\n",
              "      <td>1.5</td>\n",
              "    </tr>\n",
              "    <tr>\n",
              "      <th>2019-01-01 04:00:00</th>\n",
              "      <td>2381.258</td>\n",
              "      <td>37.9</td>\n",
              "      <td>37.9</td>\n",
              "      <td>100.0</td>\n",
              "      <td>140.0</td>\n",
              "      <td>3.0</td>\n",
              "      <td>0.0001</td>\n",
              "      <td>29.58</td>\n",
              "      <td>1001.2</td>\n",
              "      <td>1.5</td>\n",
              "    </tr>\n",
              "  </tbody>\n",
              "</table>\n",
              "</div>\n",
              "      <button class=\"colab-df-convert\" onclick=\"convertToInteractive('df-40484c4f-e1e4-4d9a-9750-74222020835b')\"\n",
              "              title=\"Convert this dataframe to an interactive table.\"\n",
              "              style=\"display:none;\">\n",
              "        \n",
              "  <svg xmlns=\"http://www.w3.org/2000/svg\" height=\"24px\"viewBox=\"0 0 24 24\"\n",
              "       width=\"24px\">\n",
              "    <path d=\"M0 0h24v24H0V0z\" fill=\"none\"/>\n",
              "    <path d=\"M18.56 5.44l.94 2.06.94-2.06 2.06-.94-2.06-.94-.94-2.06-.94 2.06-2.06.94zm-11 1L8.5 8.5l.94-2.06 2.06-.94-2.06-.94L8.5 2.5l-.94 2.06-2.06.94zm10 10l.94 2.06.94-2.06 2.06-.94-2.06-.94-.94-2.06-.94 2.06-2.06.94z\"/><path d=\"M17.41 7.96l-1.37-1.37c-.4-.4-.92-.59-1.43-.59-.52 0-1.04.2-1.43.59L10.3 9.45l-7.72 7.72c-.78.78-.78 2.05 0 2.83L4 21.41c.39.39.9.59 1.41.59.51 0 1.02-.2 1.41-.59l7.78-7.78 2.81-2.81c.8-.78.8-2.07 0-2.86zM5.41 20L4 18.59l7.72-7.72 1.47 1.35L5.41 20z\"/>\n",
              "  </svg>\n",
              "      </button>\n",
              "      \n",
              "  <style>\n",
              "    .colab-df-container {\n",
              "      display:flex;\n",
              "      flex-wrap:wrap;\n",
              "      gap: 12px;\n",
              "    }\n",
              "\n",
              "    .colab-df-convert {\n",
              "      background-color: #E8F0FE;\n",
              "      border: none;\n",
              "      border-radius: 50%;\n",
              "      cursor: pointer;\n",
              "      display: none;\n",
              "      fill: #1967D2;\n",
              "      height: 32px;\n",
              "      padding: 0 0 0 0;\n",
              "      width: 32px;\n",
              "    }\n",
              "\n",
              "    .colab-df-convert:hover {\n",
              "      background-color: #E2EBFA;\n",
              "      box-shadow: 0px 1px 2px rgba(60, 64, 67, 0.3), 0px 1px 3px 1px rgba(60, 64, 67, 0.15);\n",
              "      fill: #174EA6;\n",
              "    }\n",
              "\n",
              "    [theme=dark] .colab-df-convert {\n",
              "      background-color: #3B4455;\n",
              "      fill: #D2E3FC;\n",
              "    }\n",
              "\n",
              "    [theme=dark] .colab-df-convert:hover {\n",
              "      background-color: #434B5C;\n",
              "      box-shadow: 0px 1px 3px 1px rgba(0, 0, 0, 0.15);\n",
              "      filter: drop-shadow(0px 1px 2px rgba(0, 0, 0, 0.3));\n",
              "      fill: #FFFFFF;\n",
              "    }\n",
              "  </style>\n",
              "\n",
              "      <script>\n",
              "        const buttonEl =\n",
              "          document.querySelector('#df-40484c4f-e1e4-4d9a-9750-74222020835b button.colab-df-convert');\n",
              "        buttonEl.style.display =\n",
              "          google.colab.kernel.accessAllowed ? 'block' : 'none';\n",
              "\n",
              "        async function convertToInteractive(key) {\n",
              "          const element = document.querySelector('#df-40484c4f-e1e4-4d9a-9750-74222020835b');\n",
              "          const dataTable =\n",
              "            await google.colab.kernel.invokeFunction('convertToInteractive',\n",
              "                                                     [key], {});\n",
              "          if (!dataTable) return;\n",
              "\n",
              "          const docLinkHtml = 'Like what you see? Visit the ' +\n",
              "            '<a target=\"_blank\" href=https://colab.research.google.com/notebooks/data_table.ipynb>data table notebook</a>'\n",
              "            + ' to learn more about interactive tables.';\n",
              "          element.innerHTML = '';\n",
              "          dataTable['output_type'] = 'display_data';\n",
              "          await google.colab.output.renderOutput(dataTable, element);\n",
              "          const docLink = document.createElement('div');\n",
              "          docLink.innerHTML = docLinkHtml;\n",
              "          element.appendChild(docLink);\n",
              "        }\n",
              "      </script>\n",
              "    </div>\n",
              "  </div>\n",
              "  "
            ],
            "text/plain": [
              "                       Demand  BDL_tmpf  BDL_dwpf  BDL_relh  BDL_drct  \\\n",
              "Datetime                                                                \n",
              "2019-01-01 00:00:00  2713.617      37.9      37.9     100.0     360.0   \n",
              "2019-01-01 01:00:00  2578.343      37.9      37.9     100.0     360.0   \n",
              "2019-01-01 02:00:00  2467.969      37.9      37.9     100.0     340.0   \n",
              "2019-01-01 03:00:00  2397.140      37.9      37.9     100.0     310.0   \n",
              "2019-01-01 04:00:00  2381.258      37.9      37.9     100.0     140.0   \n",
              "\n",
              "                     BDL_sknt  BDL_p01i  BDL_alti  BDL_mslp  BDL_vsby  \n",
              "Datetime                                                               \n",
              "2019-01-01 00:00:00       4.0    0.0700     29.88    1009.7       5.0  \n",
              "2019-01-01 01:00:00       4.0    0.1100     29.79    1006.3       2.0  \n",
              "2019-01-01 02:00:00       7.0    0.0100     29.70    1003.3       2.0  \n",
              "2019-01-01 03:00:00       6.0    0.0100     29.63    1002.3       1.5  \n",
              "2019-01-01 04:00:00       3.0    0.0001     29.58    1001.2       1.5  "
            ]
          },
          "execution_count": 20,
          "metadata": {},
          "output_type": "execute_result"
        }
      ],
      "source": [
        "# we separate the year 2020 for test data \n",
        "test_data = df['2019-01-01':'2019-12-31']\n",
        "#Delete data column as we no longer need it \n",
        "# test_data = test_data.reset_index(drop=True)\n",
        "test_data.drop(['Datetime'],inplace=True,axis=1)\n",
        "#Check data column is deleted \n",
        "test_data.head()"
      ]
    },
    {
      "cell_type": "code",
      "execution_count": null,
      "metadata": {
        "colab": {
          "base_uri": "https://localhost:8080/"
        },
        "id": "kkMXlmhtP7j1",
        "outputId": "b432782d-9415-4622-df97-6c3d63a0c68c"
      },
      "outputs": [
        {
          "data": {
            "text/plain": [
              "(8759, 10)"
            ]
          },
          "execution_count": 21,
          "metadata": {},
          "output_type": "execute_result"
        }
      ],
      "source": [
        "test_data.shape"
      ]
    },
    {
      "cell_type": "code",
      "execution_count": null,
      "metadata": {
        "colab": {
          "base_uri": "https://localhost:8080/"
        },
        "id": "tmJsb7GgQh3E",
        "outputId": "f00d9a57-2831-4771-9e97-b68e53c4afad"
      },
      "outputs": [
        {
          "name": "stdout",
          "output_type": "stream",
          "text": [
            "(70031, 9) (70031,)\n",
            "(8759, 9) (8759,)\n"
          ]
        }
      ],
      "source": [
        "y_train = train_data['Demand']\n",
        "X_train = train_data.drop(['Demand'], axis = 1)\n",
        "\n",
        "y_test = test_data['Demand']\n",
        "X_test = test_data.drop(['Demand'], axis = 1)\n",
        "\n",
        "print(X_train.shape, y_train.shape)\n",
        "print(X_test.shape, y_test.shape) "
      ]
    },
    {
      "cell_type": "markdown",
      "metadata": {
        "id": "eLFOMzDsjqJy"
      },
      "source": [
        "# Baseline Model Spot Checking"
      ]
    },
    {
      "cell_type": "code",
      "execution_count": null,
      "metadata": {
        "id": "2znyVMNP9maA"
      },
      "outputs": [],
      "source": [
        "from sklearn.tree import DecisionTreeRegressor\n",
        "from sklearn.ensemble import RandomForestRegressor, GradientBoostingRegressor\n",
        "from sklearn.linear_model import LinearRegression\n",
        "from sklearn.pipeline import Pipeline\n",
        "from sklearn.preprocessing import StandardScaler"
      ]
    },
    {
      "cell_type": "markdown",
      "source": [],
      "metadata": {
        "id": "PT-O7mxh3uCd"
      }
    },
    {
      "cell_type": "code",
      "execution_count": null,
      "metadata": {
        "colab": {
          "base_uri": "https://localhost:8080/"
        },
        "id": "EbNxKeKMjzLu",
        "outputId": "b20f0a29-b228-4395-8bb9-35bce2370fc1"
      },
      "outputs": [
        {
          "data": {
            "text/plain": [
              "[('StandardScaledLR',\n",
              "  Pipeline(steps=[('Scaler', StandardScaler()), ('LR', LinearRegression())])),\n",
              " ('StandardScaledDTR',\n",
              "  Pipeline(steps=[('Scaler', StandardScaler()), ('DTR', DecisionTreeRegressor())])),\n",
              " ('StandardScaledGBR', Pipeline(steps=[('Scaler', StandardScaler()),\n",
              "                  ('GBR', GradientBoostingRegressor())])),\n",
              " ('StandardScaledRFR',\n",
              "  Pipeline(steps=[('Scaler', StandardScaler()), ('RFR', RandomForestRegressor())]))]"
            ]
          },
          "execution_count": 24,
          "metadata": {},
          "output_type": "execute_result"
        }
      ],
      "source": [
        "# First we create a list of pipelines all of which use StandardScaler for preprocessing followed by one of our baseline model candidates\n",
        "pipelines = []\n",
        "pipelines.append(('StandardScaledLR', Pipeline([('Scaler', StandardScaler()),('LR', LinearRegression())])))\n",
        "pipelines.append(('StandardScaledDTR', Pipeline([('Scaler', StandardScaler()),('DTR', DecisionTreeRegressor())])))\n",
        "pipelines.append(('StandardScaledGBR', Pipeline([('Scaler', StandardScaler()),('GBR', GradientBoostingRegressor())])))\n",
        "pipelines.append(('StandardScaledRFR', Pipeline([('Scaler', StandardScaler()),('RFR', RandomForestRegressor())])))\n",
        "pipelines"
      ]
    },
    {
      "cell_type": "code",
      "execution_count": null,
      "metadata": {
        "id": "L_zr1oN_9maA"
      },
      "outputs": [],
      "source": [
        "from sklearn.model_selection import KFold, cross_validate\n",
        "from sklearn.metrics import mean_squared_error, mean_absolute_error, make_scorer, r2_score\n",
        "import numpy as np"
      ]
    },
    {
      "cell_type": "code",
      "execution_count": null,
      "metadata": {
        "colab": {
          "base_uri": "https://localhost:8080/"
        },
        "id": "HoBeKIKo9maA",
        "outputId": "7eab1d7d-02b3-4329-8fb5-bb809c0860da"
      },
      "outputs": [
        {
          "name": "stdout",
          "output_type": "stream",
          "text": [
            "StandardScaledLR | MAE: -551.76374649717 (1.8042302807867896) | RMSE: 26.267620956899435 (0.04681331729143018)\n",
            "StandardScaledDTR | MAE: -459.73836408977894 (2.1629209384400747) | RMSE: 24.74685328033763 (0.06519434076148266)\n",
            "StandardScaledGBR | MAE: -394.67310750079554 (2.0108607268352654) | RMSE: 21.842201377875835 (0.05108899567132205)\n",
            "StandardScaledRFR | MAE: -351.62295846021476 (1.5516588228526786) | RMSE: 20.976783722924843 (0.055173914998694826)\n"
          ]
        }
      ],
      "source": [
        "# Next, we can evaluate each algorithm against the other through a loop and using kfold cross validation\n",
        "model_evals = []\n",
        "model_names = []\n",
        "for name, model in pipelines:\n",
        "    kfold = KFold(n_splits = 5, random_state = 17017,\n",
        "                  shuffle = True)\n",
        "    # scoring used are MAE and RMSE. MAE will tell us how off the models generally are and RMSE will\n",
        "    # help us see the models' susceptibility to outliers. This will aid us in our choice of model.\n",
        "    cv_results = cross_validate(model, X_train, y_train,\n",
        "                                 cv = kfold,\n",
        "                                 scoring = ['neg_mean_absolute_error',\n",
        "                                            'neg_root_mean_squared_error'])\n",
        "    model_evals.append(cv_results)\n",
        "    model_names.append(name)\n",
        "    msg = f\"{name} | MAE: {np.mean(cv_results['test_neg_mean_absolute_error'])} ({np.std(cv_results['test_neg_mean_absolute_error'])}) | RMSE: {np.mean([np.sqrt(i*-1) for i in cv_results['test_neg_root_mean_squared_error']])} ({np.std([np.sqrt(i*-1) for i in cv_results['test_neg_root_mean_squared_error']])})\"\n",
        "    print(msg)"
      ]
    },
    {
      "cell_type": "code",
      "execution_count": null,
      "metadata": {
        "colab": {
          "base_uri": "https://localhost:8080/",
          "height": 511
        },
        "id": "J9RRtMJ09maB",
        "outputId": "ff531c5f-3362-47b0-92f4-81f4dac25b46"
      },
      "outputs": [
        {
          "data": {
            "image/png": "[encoded data removed]",
            "text/plain": [
              "<Figure size 2160x720 with 1 Axes>"
            ]
          },
          "metadata": {},
          "output_type": "display_data"
        }
      ],
      "source": [
        "models_mae = [i['test_neg_mean_absolute_error'] for i in model_evals]\n",
        "models_rmse = [i['test_neg_root_mean_squared_error'] for i in model_evals]\n",
        "\n",
        "plt.figure(figsize = (30,10))\n",
        "plt.boxplot(models_mae, labels=model_names)\n",
        "plt.suptitle('Algorithm MAE Comparison')\n",
        "plt.rcParams[\"figure.figsize\"] = (10,10)\n",
        "plt.show()"
      ]
    },
    {
      "cell_type": "code",
      "execution_count": null,
      "metadata": {
        "colab": {
          "base_uri": "https://localhost:8080/",
          "height": 511
        },
        "id": "XfZaR3Ro9maB",
        "outputId": "4af900a3-2f73-46ee-8060-f7aed929dba5"
      },
      "outputs": [
        {
          "data": {
            "image/png": "[encoded data removed]",
            "text/plain": [
              "<Figure size 2160x720 with 1 Axes>"
            ]
          },
          "metadata": {},
          "output_type": "display_data"
        }
      ],
      "source": [
        "plt.figure(figsize = (30,10))\n",
        "plt.boxplot(models_rmse, labels=model_names)\n",
        "plt.suptitle('Algorithm MSE Comparison')\n",
        "plt.rcParams[\"figure.figsize\"] = (10,10)\n",
        "plt.show()"
      ]
    },
    {
      "cell_type": "markdown",
      "metadata": {
        "id": "yNwhi2uNjviR"
      },
      "source": [
        "# Best Model Hyper Parameter Tuning"
      ]
    },
    {
      "cell_type": "code",
      "execution_count": null,
      "metadata": {
        "id": "XpFqcygE9maB"
      },
      "outputs": [],
      "source": [
        "from sklearn.model_selection import GridSearchCV"
      ]
    },
    {
      "cell_type": "code",
      "execution_count": null,
      "metadata": {
        "id": "gzvXf4m3jiLM"
      },
      "outputs": [],
      "source": [
        "# We know that RandomForest + StandardScaler is the best pipeline in terms of performance. Now let us get the best version of this baseline model/pipeline!\n",
        "rfr_pipeline = Pipeline([('Scaler', StandardScaler()),('RFR', RandomForestRegressor())])"
      ]
    },
    {
      "cell_type": "code",
      "execution_count": null,
      "metadata": {
        "id": "vir2Xup79maB"
      },
      "outputs": [],
      "source": [
        "param_grid = {\n",
        "    \"RFR__n_estimators\" : [500, 600],\n",
        "    \"RFR__max_depth\" : [13, 14, 15], # depth must be very high because of the wide range of possible values (reaches a downward limit when depth is low, \n",
        "    \"RFR__max_features\" : [6, 7, 8],  # as forest aggregations can only reach as low as their mean)\n",
        "    \"RFR__min_samples_split\" : [6, 7, 8],\n",
        "    \"RFR__warm_start\" : [True, False],\n",
        "    \"RFR__oob_score\" : [True, False],\n",
        "}"
      ]
    },
    {
      "cell_type": "code",
      "execution_count": null,
      "metadata": {
        "colab": {
          "background_save": true,
          "base_uri": "https://localhost:8080/"
        },
        "id": "BWopsf489maB",
        "scrolled": true,
        "outputId": "78675aa6-269a-4f1d-dbd2-27e33123b43a"
      },
      "outputs": [
        {
          "name": "stdout",
          "output_type": "stream",
          "text": [
            "Fitting 5 folds for each of 216 candidates, totalling 1080 fits\n"
          ]
        }
      ],
      "source": [
        "GS = GridSearchCV(rfr_pipeline, param_grid, verbose = 10, n_jobs = 4, scoring = 'neg_mean_absolute_error')\n",
        "GS.fit(X_train, y_train)"
      ]
    },
    {
      "cell_type": "code",
      "execution_count": null,
      "metadata": {
        "id": "qvyiVkJN9maB",
        "scrolled": true,
        "colab": {
          "base_uri": "https://localhost:8080/",
          "height": 187
        },
        "outputId": "27117f2b-159e-472c-eefb-d24ad148ae18"
      },
      "outputs": [
        {
          "output_type": "error",
          "ename": "NameError",
          "evalue": "ignored",
          "traceback": [
            "\u001b[0;31m---------------------------------------------------------------------------\u001b[0m",
            "\u001b[0;31mNameError\u001b[0m                                 Traceback (most recent call last)",
            "\u001b[0;32m<ipython-input-1-8936d467764b>\u001b[0m in \u001b[0;36m<module>\u001b[0;34m\u001b[0m\n\u001b[0;32m----> 1\u001b[0;31m \u001b[0mprint\u001b[0m\u001b[0;34m(\u001b[0m\u001b[0;34m\"Best parameter (CV score=%0.3f):\"\u001b[0m \u001b[0;34m%\u001b[0m \u001b[0mGS\u001b[0m\u001b[0;34m.\u001b[0m\u001b[0mbest_score_\u001b[0m\u001b[0;34m)\u001b[0m\u001b[0;34m\u001b[0m\u001b[0;34m\u001b[0m\u001b[0m\n\u001b[0m\u001b[1;32m      2\u001b[0m \u001b[0mprint\u001b[0m\u001b[0;34m(\u001b[0m\u001b[0mGS\u001b[0m\u001b[0;34m.\u001b[0m\u001b[0mbest_params_\u001b[0m\u001b[0;34m)\u001b[0m\u001b[0;34m\u001b[0m\u001b[0;34m\u001b[0m\u001b[0m\n",
            "\u001b[0;31mNameError\u001b[0m: name 'GS' is not defined"
          ]
        }
      ],
      "source": [
        "print(\"Best parameter (CV score=%0.3f):\" % GS.best_score_)\n",
        "print(GS.best_params_)"
      ]
    },
    {
      "cell_type": "code",
      "execution_count": null,
      "metadata": {
        "id": "WxRse8r89maC"
      },
      "outputs": [],
      "source": [
        "best_params = {'RFR__max_depth': 13, 'RFR__max_features': 6, 'RFR__min_samples_split': 8, 'RFR__n_estimators': 600, 'RFR__oob_score': False, 'RFR__warm_start': True}\n",
        "best_pipe = Pipeline([('Scaler', StandardScaler()),('RFR', RandomForestRegressor())]).set_params(**best_params)\n",
        "best_pipe.fit(X_train, y_train)"
      ]
    },
    {
      "cell_type": "code",
      "execution_count": null,
      "metadata": {
        "id": "L7BH_rQ79maC"
      },
      "outputs": [],
      "source": [
        "test_preds = best_pipe.predict(X_test)"
      ]
    },
    {
      "cell_type": "markdown",
      "metadata": {
        "id": "fMlT5HiNf1VK"
      },
      "source": [
        "The model above was first and foremost found through model spot checking and furthermore through multiple runs of CVGridSearch. Many adjustments had to be made with features such as n_estimators and max_depth. These had to be made after verifying the fit qualitatively and seeing that there was a limit for the lower end of the predictions (i.e., there was a limit to how low the demand predictions could be). After seeing that max_depth, and max_features was almost always at its highest when running different variations of CVGridSeach, a higher range was introduced to all of these to see how much higher the optimal parameters would be. After seeing that a higher range fit the training set well, and gave even better scores to the test set (no overfitting to train), these were decided upon. "
      ]
    }
  ],
  "metadata": {
    "colab": {
      "provenance": []
    },
    "kernelspec": {
      "display_name": "Python 3 (ipykernel)",
      "language": "python",
      "name": "python3"
    },
    "language_info": {
      "codemirror_mode": {
        "name": "ipython",
        "version": 3
      },
      "file_extension": ".py",
      "mimetype": "text/x-python",
      "name": "python",
      "nbconvert_exporter": "python",
      "pygments_lexer": "ipython3",
      "version": "3.9.12"
    }
  },
  "nbformat": 4,
  "nbformat_minor": 0
}